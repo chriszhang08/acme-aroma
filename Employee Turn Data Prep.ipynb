{
 "cells": [
  {
   "cell_type": "markdown",
   "metadata": {},
   "source": [
    "# Employee Turnover Prediction Starter Workbook"
   ]
  },
  {
   "cell_type": "markdown",
   "metadata": {},
   "source": [
    "This workbook was started by the data scientist who originally worked on this project. It is organized around the following steps:\n",
    "1. Import and Clean data\n",
    "2. Explore data\n",
    "3. Model features\n",
    "4. Model data\n",
    "5. Evaluate models"
   ]
  },
  {
   "cell_type": "code",
   "execution_count": 1,
   "metadata": {
    "ExecuteTime": {
     "end_time": "2024-12-08T19:30:22.879501Z",
     "start_time": "2024-12-08T19:30:22.315109Z"
    }
   },
   "outputs": [],
   "source": [
    "#Import Libraries\n",
    "import numpy as np\n",
    "import pandas as pd\n",
    "import matplotlib.pyplot as plt\n",
    "%matplotlib inline\n",
    "import seaborn as sns\n",
    "sns.set()\n",
    "from imblearn.over_sampling import SMOTE \n",
    "from sklearn.preprocessing import StandardScaler"
   ]
  },
  {
   "cell_type": "markdown",
   "metadata": {},
   "source": [
    "## 1. Import and Clean Data"
   ]
  },
  {
   "cell_type": "code",
   "execution_count": 18,
   "metadata": {
    "ExecuteTime": {
     "end_time": "2024-12-08T19:56:47.495046Z",
     "start_time": "2024-12-08T19:56:47.482346Z"
    }
   },
   "outputs": [],
   "source": [
    "#Read in the data files\n",
    "data = pd.read_csv(\"assets/general_data.csv\",sep=\",\")"
   ]
  },
  {
   "cell_type": "code",
   "execution_count": 19,
   "metadata": {
    "ExecuteTime": {
     "end_time": "2024-12-08T19:56:47.754674Z",
     "start_time": "2024-12-08T19:56:47.743949Z"
    }
   },
   "outputs": [
    {
     "name": "stdout",
     "output_type": "stream",
     "text": [
      "<class 'pandas.core.frame.DataFrame'>\n",
      "RangeIndex: 4410 entries, 0 to 4409\n",
      "Data columns (total 29 columns):\n",
      " #   Column                   Non-Null Count  Dtype  \n",
      "---  ------                   --------------  -----  \n",
      " 0   Attrition                4410 non-null   object \n",
      " 1   Age                      4410 non-null   int64  \n",
      " 2   BusinessTravel           4410 non-null   object \n",
      " 3   Department               4410 non-null   object \n",
      " 4   DistanceFromHome         4410 non-null   int64  \n",
      " 5   Education                4410 non-null   int64  \n",
      " 6   EducationField           4410 non-null   object \n",
      " 7   EmployeeCount            4410 non-null   int64  \n",
      " 8   EmployeeID               4410 non-null   int64  \n",
      " 9   Gender                   4410 non-null   object \n",
      " 10  JobLevel                 4410 non-null   int64  \n",
      " 11  JobRole                  4410 non-null   object \n",
      " 12  MaritalStatus            4410 non-null   object \n",
      " 13  MonthlyIncome            4410 non-null   int64  \n",
      " 14  NumCompaniesWorked       4391 non-null   float64\n",
      " 15  Over18                   4410 non-null   object \n",
      " 16  PercentSalaryHike        4410 non-null   int64  \n",
      " 17  StandardHours            4410 non-null   int64  \n",
      " 18  StockOptionLevel         4410 non-null   int64  \n",
      " 19  TotalWorkingYears        4401 non-null   float64\n",
      " 20  TrainingTimesLastYear    4410 non-null   int64  \n",
      " 21  YearsAtCompany           4410 non-null   int64  \n",
      " 22  YearsSinceLastPromotion  4410 non-null   int64  \n",
      " 23  YearsWithCurrManager     4410 non-null   int64  \n",
      " 24  PerformanceRating        4410 non-null   int64  \n",
      " 25  JobInvolvement           4410 non-null   int64  \n",
      " 26  EnvironmentSatisfaction  4385 non-null   float64\n",
      " 27  JobSatisfaction          4390 non-null   float64\n",
      " 28  WorkLifeBalance          4388 non-null   float64\n",
      "dtypes: float64(5), int64(16), object(8)\n",
      "memory usage: 999.3+ KB\n"
     ]
    }
   ],
   "source": [
    "#Examine the columns\n",
    "data.info()"
   ]
  },
  {
   "cell_type": "code",
   "execution_count": 20,
   "metadata": {
    "ExecuteTime": {
     "end_time": "2024-12-08T19:56:47.901049Z",
     "start_time": "2024-12-08T19:56:47.894135Z"
    }
   },
   "outputs": [
    {
     "data": {
      "text/plain": "  Attrition  Age     BusinessTravel            Department  DistanceFromHome  \\\n0        No   51      Travel_Rarely                 Sales                 5   \n1        No   32  Travel_Frequently  Research_Development                14   \n2        No   38         Non-Travel  Research_Development                 2   \n3        No   32      Travel_Rarely  Research_Development                 8   \n4        No   46      Travel_Rarely  Research_Development                 6   \n\n   Education EducationField  EmployeeCount  EmployeeID  Gender  JobLevel  \\\n0          2  Life_Sciences              1           1  Female         1   \n1          4          Other              1           3    Male         4   \n2          5  Life_Sciences              1           4    Male         3   \n3          1        Medical              1           5    Male         1   \n4          3  Life_Sciences              1           6  Female         4   \n\n                     JobRole MaritalStatus  MonthlyIncome  NumCompaniesWorked  \\\n0  Healthcare_Representative       Married         131160                 1.0   \n1            Sales_Executive       Married         193280                 1.0   \n2            Human_Resources       Married          83210                 3.0   \n3            Sales_Executive        Single          23420                 4.0   \n4          Research_Director       Married          40710                 3.0   \n\n  Over18  PercentSalaryHike  StandardHours  StockOptionLevel  \\\n0      Y                 11              8                 0   \n1      Y                 15              8                 3   \n2      Y                 11              8                 3   \n3      Y                 12              8                 2   \n4      Y                 13              8                 0   \n\n   TotalWorkingYears  TrainingTimesLastYear  YearsAtCompany  \\\n0                1.0                      6               1   \n1                5.0                      2               5   \n2               13.0                      5               8   \n3                9.0                      2               6   \n4               28.0                      5               7   \n\n   YearsSinceLastPromotion  YearsWithCurrManager  PerformanceRating  \\\n0                        0                     0                  1   \n1                        0                     3                  3   \n2                        7                     5                  3   \n3                        0                     4                  1   \n4                        7                     7                  3   \n\n   JobInvolvement  EnvironmentSatisfaction  JobSatisfaction  WorkLifeBalance  \n0               3                      3.0              4.0              3.0  \n1               2                      3.0              2.0              2.0  \n2               4                      2.0              2.0              4.0  \n3               3                      4.0              4.0              3.0  \n4               3                      4.0              3.0              2.0  ",
      "text/html": "<div>\n<style scoped>\n    .dataframe tbody tr th:only-of-type {\n        vertical-align: middle;\n    }\n\n    .dataframe tbody tr th {\n        vertical-align: top;\n    }\n\n    .dataframe thead th {\n        text-align: right;\n    }\n</style>\n<table border=\"1\" class=\"dataframe\">\n  <thead>\n    <tr style=\"text-align: right;\">\n      <th></th>\n      <th>Attrition</th>\n      <th>Age</th>\n      <th>BusinessTravel</th>\n      <th>Department</th>\n      <th>DistanceFromHome</th>\n      <th>Education</th>\n      <th>EducationField</th>\n      <th>EmployeeCount</th>\n      <th>EmployeeID</th>\n      <th>Gender</th>\n      <th>JobLevel</th>\n      <th>JobRole</th>\n      <th>MaritalStatus</th>\n      <th>MonthlyIncome</th>\n      <th>NumCompaniesWorked</th>\n      <th>Over18</th>\n      <th>PercentSalaryHike</th>\n      <th>StandardHours</th>\n      <th>StockOptionLevel</th>\n      <th>TotalWorkingYears</th>\n      <th>TrainingTimesLastYear</th>\n      <th>YearsAtCompany</th>\n      <th>YearsSinceLastPromotion</th>\n      <th>YearsWithCurrManager</th>\n      <th>PerformanceRating</th>\n      <th>JobInvolvement</th>\n      <th>EnvironmentSatisfaction</th>\n      <th>JobSatisfaction</th>\n      <th>WorkLifeBalance</th>\n    </tr>\n  </thead>\n  <tbody>\n    <tr>\n      <th>0</th>\n      <td>No</td>\n      <td>51</td>\n      <td>Travel_Rarely</td>\n      <td>Sales</td>\n      <td>5</td>\n      <td>2</td>\n      <td>Life_Sciences</td>\n      <td>1</td>\n      <td>1</td>\n      <td>Female</td>\n      <td>1</td>\n      <td>Healthcare_Representative</td>\n      <td>Married</td>\n      <td>131160</td>\n      <td>1.0</td>\n      <td>Y</td>\n      <td>11</td>\n      <td>8</td>\n      <td>0</td>\n      <td>1.0</td>\n      <td>6</td>\n      <td>1</td>\n      <td>0</td>\n      <td>0</td>\n      <td>1</td>\n      <td>3</td>\n      <td>3.0</td>\n      <td>4.0</td>\n      <td>3.0</td>\n    </tr>\n    <tr>\n      <th>1</th>\n      <td>No</td>\n      <td>32</td>\n      <td>Travel_Frequently</td>\n      <td>Research_Development</td>\n      <td>14</td>\n      <td>4</td>\n      <td>Other</td>\n      <td>1</td>\n      <td>3</td>\n      <td>Male</td>\n      <td>4</td>\n      <td>Sales_Executive</td>\n      <td>Married</td>\n      <td>193280</td>\n      <td>1.0</td>\n      <td>Y</td>\n      <td>15</td>\n      <td>8</td>\n      <td>3</td>\n      <td>5.0</td>\n      <td>2</td>\n      <td>5</td>\n      <td>0</td>\n      <td>3</td>\n      <td>3</td>\n      <td>2</td>\n      <td>3.0</td>\n      <td>2.0</td>\n      <td>2.0</td>\n    </tr>\n    <tr>\n      <th>2</th>\n      <td>No</td>\n      <td>38</td>\n      <td>Non-Travel</td>\n      <td>Research_Development</td>\n      <td>2</td>\n      <td>5</td>\n      <td>Life_Sciences</td>\n      <td>1</td>\n      <td>4</td>\n      <td>Male</td>\n      <td>3</td>\n      <td>Human_Resources</td>\n      <td>Married</td>\n      <td>83210</td>\n      <td>3.0</td>\n      <td>Y</td>\n      <td>11</td>\n      <td>8</td>\n      <td>3</td>\n      <td>13.0</td>\n      <td>5</td>\n      <td>8</td>\n      <td>7</td>\n      <td>5</td>\n      <td>3</td>\n      <td>4</td>\n      <td>2.0</td>\n      <td>2.0</td>\n      <td>4.0</td>\n    </tr>\n    <tr>\n      <th>3</th>\n      <td>No</td>\n      <td>32</td>\n      <td>Travel_Rarely</td>\n      <td>Research_Development</td>\n      <td>8</td>\n      <td>1</td>\n      <td>Medical</td>\n      <td>1</td>\n      <td>5</td>\n      <td>Male</td>\n      <td>1</td>\n      <td>Sales_Executive</td>\n      <td>Single</td>\n      <td>23420</td>\n      <td>4.0</td>\n      <td>Y</td>\n      <td>12</td>\n      <td>8</td>\n      <td>2</td>\n      <td>9.0</td>\n      <td>2</td>\n      <td>6</td>\n      <td>0</td>\n      <td>4</td>\n      <td>1</td>\n      <td>3</td>\n      <td>4.0</td>\n      <td>4.0</td>\n      <td>3.0</td>\n    </tr>\n    <tr>\n      <th>4</th>\n      <td>No</td>\n      <td>46</td>\n      <td>Travel_Rarely</td>\n      <td>Research_Development</td>\n      <td>6</td>\n      <td>3</td>\n      <td>Life_Sciences</td>\n      <td>1</td>\n      <td>6</td>\n      <td>Female</td>\n      <td>4</td>\n      <td>Research_Director</td>\n      <td>Married</td>\n      <td>40710</td>\n      <td>3.0</td>\n      <td>Y</td>\n      <td>13</td>\n      <td>8</td>\n      <td>0</td>\n      <td>28.0</td>\n      <td>5</td>\n      <td>7</td>\n      <td>7</td>\n      <td>7</td>\n      <td>3</td>\n      <td>3</td>\n      <td>4.0</td>\n      <td>3.0</td>\n      <td>2.0</td>\n    </tr>\n  </tbody>\n</table>\n</div>"
     },
     "execution_count": 20,
     "metadata": {},
     "output_type": "execute_result"
    }
   ],
   "source": [
    "#Let's view some of the sample data\n",
    "pd.set_option(\"display.max_columns\", None)\n",
    "data.head()"
   ]
  },
  {
   "cell_type": "code",
   "execution_count": 21,
   "metadata": {
    "ExecuteTime": {
     "end_time": "2024-12-08T19:56:48.036942Z",
     "start_time": "2024-12-08T19:56:48.031644Z"
    }
   },
   "outputs": [
    {
     "data": {
      "text/plain": "(4410, 29)"
     },
     "execution_count": 21,
     "metadata": {},
     "output_type": "execute_result"
    }
   ],
   "source": [
    "#Determine the shape of the data frame. \n",
    "data.shape"
   ]
  },
  {
   "cell_type": "markdown",
   "metadata": {},
   "source": [
    "#### Design Note 1.1\n",
    "\n",
    "The data frame is 4410 rows x 24 columns. ```Attrition``` is a dichotomous (\"Yes/No\") field that indicates if the employee left the organization. This variable will serve as our response variable (i.e. y-variable in the logistic model). The other columns listed are potenial predictor variables. We should do some exploratory data analysis to see which potential predictors have the most potential for modeling. "
   ]
  },
  {
   "cell_type": "code",
   "execution_count": 22,
   "metadata": {
    "ExecuteTime": {
     "end_time": "2024-12-08T19:56:48.323143Z",
     "start_time": "2024-12-08T19:56:48.300446Z"
    }
   },
   "outputs": [
    {
     "data": {
      "text/plain": "          Age  DistanceFromHome  Education  EmployeeCount  EmployeeID  \\\ncount  4410.0            4410.0     4410.0         4410.0      4410.0   \nmean     36.9               8.0        2.9            1.0      2205.5   \nstd       9.1               7.1        1.0            0.0      1273.2   \nmin      18.0               1.0        1.0            1.0         1.0   \n25%      30.0               2.0        2.0            1.0      1103.2   \n50%      36.0               6.0        3.0            1.0      2205.5   \n75%      43.0              12.0        4.0            1.0      3307.8   \nmax      60.0              35.0        5.0            1.0      4410.0   \n\n       JobLevel  MonthlyIncome  NumCompaniesWorked  PercentSalaryHike  \\\ncount    4410.0         4410.0              4391.0             4410.0   \nmean        2.1        65029.3                 2.7               14.4   \nstd         1.1        47068.9                 2.5                4.2   \nmin         1.0        10090.0                 0.0                1.0   \n25%         1.0        29110.0                 1.0               12.0   \n50%         2.0        49190.0                 2.0               14.0   \n75%         3.0        83800.0                 4.0               17.0   \nmax         5.0       199990.0                 9.0               25.0   \n\n       StandardHours  StockOptionLevel  TotalWorkingYears  \\\ncount         4410.0            4410.0             4401.0   \nmean             8.0               0.8               11.3   \nstd              0.0               0.9                7.8   \nmin              8.0               0.0                0.0   \n25%              8.0               0.0                6.0   \n50%              8.0               1.0               10.0   \n75%              8.0               1.0               15.0   \nmax              8.0               3.0               40.0   \n\n       TrainingTimesLastYear  YearsAtCompany  YearsSinceLastPromotion  \\\ncount                 4410.0          4410.0                   4410.0   \nmean                     2.8             7.0                      2.2   \nstd                      1.3             6.1                      3.2   \nmin                      0.0             0.0                      0.0   \n25%                      2.0             3.0                      0.0   \n50%                      3.0             5.0                      1.0   \n75%                      3.0             9.0                      3.0   \nmax                      6.0            40.0                     15.0   \n\n       YearsWithCurrManager  PerformanceRating  JobInvolvement  \\\ncount                4410.0             4410.0          4410.0   \nmean                    4.1                3.0             3.0   \nstd                     3.6                0.6             0.9   \nmin                     0.0                1.0             1.0   \n25%                     2.0                3.0             2.0   \n50%                     3.0                3.0             3.0   \n75%                     7.0                3.0             4.0   \nmax                    17.0                4.0             4.0   \n\n       EnvironmentSatisfaction  JobSatisfaction  WorkLifeBalance  \ncount                   4385.0           4390.0           4388.0  \nmean                       2.9              3.1              3.0  \nstd                        1.1              0.9              0.9  \nmin                        1.0              1.0              1.0  \n25%                        2.0              2.0              2.0  \n50%                        3.0              3.0              3.0  \n75%                        4.0              4.0              4.0  \nmax                        4.0              4.0              4.0  ",
      "text/html": "<div>\n<style scoped>\n    .dataframe tbody tr th:only-of-type {\n        vertical-align: middle;\n    }\n\n    .dataframe tbody tr th {\n        vertical-align: top;\n    }\n\n    .dataframe thead th {\n        text-align: right;\n    }\n</style>\n<table border=\"1\" class=\"dataframe\">\n  <thead>\n    <tr style=\"text-align: right;\">\n      <th></th>\n      <th>Age</th>\n      <th>DistanceFromHome</th>\n      <th>Education</th>\n      <th>EmployeeCount</th>\n      <th>EmployeeID</th>\n      <th>JobLevel</th>\n      <th>MonthlyIncome</th>\n      <th>NumCompaniesWorked</th>\n      <th>PercentSalaryHike</th>\n      <th>StandardHours</th>\n      <th>StockOptionLevel</th>\n      <th>TotalWorkingYears</th>\n      <th>TrainingTimesLastYear</th>\n      <th>YearsAtCompany</th>\n      <th>YearsSinceLastPromotion</th>\n      <th>YearsWithCurrManager</th>\n      <th>PerformanceRating</th>\n      <th>JobInvolvement</th>\n      <th>EnvironmentSatisfaction</th>\n      <th>JobSatisfaction</th>\n      <th>WorkLifeBalance</th>\n    </tr>\n  </thead>\n  <tbody>\n    <tr>\n      <th>count</th>\n      <td>4410.0</td>\n      <td>4410.0</td>\n      <td>4410.0</td>\n      <td>4410.0</td>\n      <td>4410.0</td>\n      <td>4410.0</td>\n      <td>4410.0</td>\n      <td>4391.0</td>\n      <td>4410.0</td>\n      <td>4410.0</td>\n      <td>4410.0</td>\n      <td>4401.0</td>\n      <td>4410.0</td>\n      <td>4410.0</td>\n      <td>4410.0</td>\n      <td>4410.0</td>\n      <td>4410.0</td>\n      <td>4410.0</td>\n      <td>4385.0</td>\n      <td>4390.0</td>\n      <td>4388.0</td>\n    </tr>\n    <tr>\n      <th>mean</th>\n      <td>36.9</td>\n      <td>8.0</td>\n      <td>2.9</td>\n      <td>1.0</td>\n      <td>2205.5</td>\n      <td>2.1</td>\n      <td>65029.3</td>\n      <td>2.7</td>\n      <td>14.4</td>\n      <td>8.0</td>\n      <td>0.8</td>\n      <td>11.3</td>\n      <td>2.8</td>\n      <td>7.0</td>\n      <td>2.2</td>\n      <td>4.1</td>\n      <td>3.0</td>\n      <td>3.0</td>\n      <td>2.9</td>\n      <td>3.1</td>\n      <td>3.0</td>\n    </tr>\n    <tr>\n      <th>std</th>\n      <td>9.1</td>\n      <td>7.1</td>\n      <td>1.0</td>\n      <td>0.0</td>\n      <td>1273.2</td>\n      <td>1.1</td>\n      <td>47068.9</td>\n      <td>2.5</td>\n      <td>4.2</td>\n      <td>0.0</td>\n      <td>0.9</td>\n      <td>7.8</td>\n      <td>1.3</td>\n      <td>6.1</td>\n      <td>3.2</td>\n      <td>3.6</td>\n      <td>0.6</td>\n      <td>0.9</td>\n      <td>1.1</td>\n      <td>0.9</td>\n      <td>0.9</td>\n    </tr>\n    <tr>\n      <th>min</th>\n      <td>18.0</td>\n      <td>1.0</td>\n      <td>1.0</td>\n      <td>1.0</td>\n      <td>1.0</td>\n      <td>1.0</td>\n      <td>10090.0</td>\n      <td>0.0</td>\n      <td>1.0</td>\n      <td>8.0</td>\n      <td>0.0</td>\n      <td>0.0</td>\n      <td>0.0</td>\n      <td>0.0</td>\n      <td>0.0</td>\n      <td>0.0</td>\n      <td>1.0</td>\n      <td>1.0</td>\n      <td>1.0</td>\n      <td>1.0</td>\n      <td>1.0</td>\n    </tr>\n    <tr>\n      <th>25%</th>\n      <td>30.0</td>\n      <td>2.0</td>\n      <td>2.0</td>\n      <td>1.0</td>\n      <td>1103.2</td>\n      <td>1.0</td>\n      <td>29110.0</td>\n      <td>1.0</td>\n      <td>12.0</td>\n      <td>8.0</td>\n      <td>0.0</td>\n      <td>6.0</td>\n      <td>2.0</td>\n      <td>3.0</td>\n      <td>0.0</td>\n      <td>2.0</td>\n      <td>3.0</td>\n      <td>2.0</td>\n      <td>2.0</td>\n      <td>2.0</td>\n      <td>2.0</td>\n    </tr>\n    <tr>\n      <th>50%</th>\n      <td>36.0</td>\n      <td>6.0</td>\n      <td>3.0</td>\n      <td>1.0</td>\n      <td>2205.5</td>\n      <td>2.0</td>\n      <td>49190.0</td>\n      <td>2.0</td>\n      <td>14.0</td>\n      <td>8.0</td>\n      <td>1.0</td>\n      <td>10.0</td>\n      <td>3.0</td>\n      <td>5.0</td>\n      <td>1.0</td>\n      <td>3.0</td>\n      <td>3.0</td>\n      <td>3.0</td>\n      <td>3.0</td>\n      <td>3.0</td>\n      <td>3.0</td>\n    </tr>\n    <tr>\n      <th>75%</th>\n      <td>43.0</td>\n      <td>12.0</td>\n      <td>4.0</td>\n      <td>1.0</td>\n      <td>3307.8</td>\n      <td>3.0</td>\n      <td>83800.0</td>\n      <td>4.0</td>\n      <td>17.0</td>\n      <td>8.0</td>\n      <td>1.0</td>\n      <td>15.0</td>\n      <td>3.0</td>\n      <td>9.0</td>\n      <td>3.0</td>\n      <td>7.0</td>\n      <td>3.0</td>\n      <td>4.0</td>\n      <td>4.0</td>\n      <td>4.0</td>\n      <td>4.0</td>\n    </tr>\n    <tr>\n      <th>max</th>\n      <td>60.0</td>\n      <td>35.0</td>\n      <td>5.0</td>\n      <td>1.0</td>\n      <td>4410.0</td>\n      <td>5.0</td>\n      <td>199990.0</td>\n      <td>9.0</td>\n      <td>25.0</td>\n      <td>8.0</td>\n      <td>3.0</td>\n      <td>40.0</td>\n      <td>6.0</td>\n      <td>40.0</td>\n      <td>15.0</td>\n      <td>17.0</td>\n      <td>4.0</td>\n      <td>4.0</td>\n      <td>4.0</td>\n      <td>4.0</td>\n      <td>4.0</td>\n    </tr>\n  </tbody>\n</table>\n</div>"
     },
     "execution_count": 22,
     "metadata": {},
     "output_type": "execute_result"
    }
   ],
   "source": [
    "#Let's look at the descriptives. Questions we may ask:\n",
    "#1. Are the minimums and maximums reasonable?\n",
    "#2. What do the means tell us about the nature of the sample?\n",
    "#3. Are there any columns that lack variance necessary for value in prediction?\n",
    "data.describe().round(1)"
   ]
  },
  {
   "cell_type": "code",
   "execution_count": 22,
   "outputs": [],
   "source": [],
   "metadata": {
    "collapsed": false,
    "ExecuteTime": {
     "end_time": "2024-12-08T19:56:49.582445Z",
     "start_time": "2024-12-08T19:56:49.573505Z"
    }
   }
  },
  {
   "cell_type": "markdown",
   "metadata": {},
   "source": [
    "#### Design Note 1.2\n",
    "\n",
    "1. Are the minimums and maximums reasonable?\n",
    "Looking at the mins and max values is a basic quality check. The min for ```Age``` is 18 years old (which makes sense, given this is US employment data.The max age is 60 years old (again a reasonable value). For some columns (e.g. ```EmployeeID```) the min/max value does not have relevancy. \n",
    "2. What do the means tell us about the nature of the sample?\n",
    "The average (mean) age in our sample is 36.9 years old, the employee lives 9.2 miles from work, with a mean income of approximately ₹65K INR, and has worked at the compnay for 7 years.\n",
    "3. Are there any columns that lack variance necessary for value in prediction?\n",
    "Yes, ```EmployeeCount``` and ```StandardHours``` both have no variation. This makes them poor candidates for prediction.\n",
    "\n",
    "Also, we should note which variables are categorical (nominal, ordinal) and which are quantitative (numeric).\n",
    "\n",
    "Categorical:\n",
    "\n",
    "```Attrition```\n",
    "```BusinessTravel```\n",
    "```Education```\n",
    "```EducationField```\n",
    "```JobLevel```\n",
    "```Gender```\n",
    "```Department```\n",
    "```JobRole```\n",
    "```MaritalStatus```\n",
    "```Over18```\n",
    "```StockOptionLevel```\n",
    "\n",
    "Quantitative:\n",
    "\n",
    "```DistanceFromHome```\n",
    "```EmployeeCount```\n",
    "```EmployeeID``` \n",
    "```MonthlyIncome``` \n",
    "```NumCompaniesWorked```\n",
    "```PercentSalaryHike```\n",
    "```StandardHours```\n",
    "```TotalWorkingYears```\n",
    "```TrainingTimesLastYear``` \n",
    "```YearsAtCompany``` \n",
    "```YearsSinceLastPromotion```\n",
    "```YearsWithCurrManager```"
   ]
  },
  {
   "cell_type": "code",
   "execution_count": 23,
   "metadata": {
    "ExecuteTime": {
     "end_time": "2024-12-08T19:56:50.972500Z",
     "start_time": "2024-12-08T19:56:50.970341Z"
    }
   },
   "outputs": [
    {
     "data": {
      "text/plain": "Attrition                   0\nAge                         0\nBusinessTravel              0\nDepartment                  0\nDistanceFromHome            0\nEducation                   0\nEducationField              0\nEmployeeCount               0\nEmployeeID                  0\nGender                      0\nJobLevel                    0\nJobRole                     0\nMaritalStatus               0\nMonthlyIncome               0\nNumCompaniesWorked         19\nOver18                      0\nPercentSalaryHike           0\nStandardHours               0\nStockOptionLevel            0\nTotalWorkingYears           9\nTrainingTimesLastYear       0\nYearsAtCompany              0\nYearsSinceLastPromotion     0\nYearsWithCurrManager        0\nPerformanceRating           0\nJobInvolvement              0\nEnvironmentSatisfaction    25\nJobSatisfaction            20\nWorkLifeBalance            22\ndtype: int64"
     },
     "execution_count": 23,
     "metadata": {},
     "output_type": "execute_result"
    }
   ],
   "source": [
    "#A significant step in data cleaning is identifying and mitigating missing (null) values.\n",
    "data.isnull().sum()"
   ]
  },
  {
   "cell_type": "code",
   "execution_count": 24,
   "metadata": {
    "ExecuteTime": {
     "end_time": "2024-12-08T19:56:51.940049Z",
     "start_time": "2024-12-08T19:56:51.934456Z"
    }
   },
   "outputs": [],
   "source": [
    "# drop the columns with missing values\n",
    "data=data.dropna()"
   ]
  },
  {
   "cell_type": "code",
   "execution_count": 25,
   "outputs": [
    {
     "data": {
      "text/plain": "Attrition                  0\nAge                        0\nBusinessTravel             0\nDepartment                 0\nDistanceFromHome           0\nEducation                  0\nEducationField             0\nEmployeeCount              0\nEmployeeID                 0\nGender                     0\nJobLevel                   0\nJobRole                    0\nMaritalStatus              0\nMonthlyIncome              0\nNumCompaniesWorked         0\nOver18                     0\nPercentSalaryHike          0\nStandardHours              0\nStockOptionLevel           0\nTotalWorkingYears          0\nTrainingTimesLastYear      0\nYearsAtCompany             0\nYearsSinceLastPromotion    0\nYearsWithCurrManager       0\nPerformanceRating          0\nJobInvolvement             0\nEnvironmentSatisfaction    0\nJobSatisfaction            0\nWorkLifeBalance            0\ndtype: int64"
     },
     "execution_count": 25,
     "metadata": {},
     "output_type": "execute_result"
    }
   ],
   "source": [
    "data.isnull().sum()"
   ],
   "metadata": {
    "collapsed": false,
    "ExecuteTime": {
     "end_time": "2024-12-08T19:56:53.015002Z",
     "start_time": "2024-12-08T19:56:53.009832Z"
    }
   }
  },
  {
   "cell_type": "markdown",
   "metadata": {},
   "source": [
    "#### Design note 1.3\n",
    "We appear to have two variables with missing values (```NumCompaniesWorked``` and ```TotalWorkingYears```). How a data scientist  addresses missing values is an involved process. There are a few options available to mitigate missing values:\n",
    "\n",
    "1. Drop any row with missing values.\n",
    "2. Drop any column with missing values.\n",
    "3. Fill missing values with 0.\n",
    "4. Fill missing values with an average for that column (mean, median, or mode).\n",
    "5. Fill missing values with what we would predict these values to be using a predictive model (multiple imputation).\n",
    "6. Recover the missing data from the data source.\n",
    "\n",
    "Each of the above options have its advantages and disadvantages. \n",
    "\n",
    "1. Throwing out data is always a difficult choice,so the key is the proportion of a row or column that has missing data. If most of a row or most of a column is missing, do we really want it included in the model?\n",
    "2. Same as 1.\n",
    "3. Filling the values in with 0 can be a very poor assumption (e.g. if we were missing salary data, why would we assume the employee earned no salary?). However, where this option can make sense is if missingness meant something. For example, if we are measuring employee engagement through a survey, where values range from 1-5 (1 is very dissatisfied and 5 is very satisfied), we may find that employees who do not bother to complete the survey are the **most** dissatified. In this case, we could fill in the values as '0' to represent that employees who do not fill out the survey are really in a separate category of engagement. A better strategy may be to create a dummy variable (1/0) for missing data, where employees who do not complete the survey are a \"1\" and those who do are a \"0\". This is true for all the options we consider: missingness is itself information (not just the absence of it). \n",
    "4. Imputing with an average is a popular options. It is computationally simple and has the advantage of reducing the likelihood of big errors in imputation. This strategy does impact the overall variance of the column, which is a tradeoff.\n",
    "5. Imputation using a predictive model, such as multiple imputation models, can be a robust way to estimate missing data. In this option, we use all the information we have (other columns) to predict the value of the missing column. Depending on the relationships among columns, this can be a robust method of mitigiating missing values. However, using this method can introduce a lot of complexity and scalability challenges to your data pipeline. \n",
    "6. It may not be an option, but it is worth mentioning that the best method for dealing with missing data is not having missing data in the first place. If you are able to go back to source systems to get the true values you are missing, this is preferred to the other choices. However, recovering the missing data is often not an option because the data were never colleced in the first place (e.g. the customer does not fill out the satisfaction survey).\n",
    "\n",
    "Remember: how you address missing values in modeling is how you will have to address them in production. Using a multiple imputation package has many advantages, but one must be able to build that into the pipeline for your data product. \n",
    "\n",
    "In order to keep the project moving forward, we will impute with the mean of each column. This is a computationally inexpensive and scalable approach to imputation. It provides a value in the rough middle of the column's distribution and thus minimizes the likelihood of extreme errors in imputation; however, it does reduce the overall variance of the column."
   ]
  },
  {
   "cell_type": "code",
   "execution_count": 29,
   "metadata": {
    "ExecuteTime": {
     "end_time": "2024-12-08T19:57:53.091150Z",
     "start_time": "2024-12-08T19:57:53.056271Z"
    }
   },
   "outputs": [
    {
     "data": {
      "text/plain": "(4329, 29)"
     },
     "execution_count": 29,
     "metadata": {},
     "output_type": "execute_result"
    }
   ],
   "source": [
    "# how many columns did we lose\n",
    "data.shape"
   ]
  },
  {
   "cell_type": "markdown",
   "metadata": {},
   "source": [
    "## 2. Explore"
   ]
  },
  {
   "cell_type": "markdown",
   "metadata": {},
   "source": [
    "#### Design note 2.1\n",
    "With the data imported and cleaned, we can now move on to exploring the data. We already have some very basic insights from our quality tests above. Given some of what we have discovered in Section 1 (import and clean), we can drop a few variables that will not help us in our goal of modeling employee turnover. ```EmployeeCount```, ```StandardHours```, and ```Over18``` should be dropped because they have no variation (all the same values for the entire column). ```EmployeID```is only used to identify the employee and has no other value. After we drop the unecessary variables, we can begin our exploratory data analysis (EDA) by looking how the variables are correlated with our response variable, ```Attrition```."
   ]
  },
  {
   "cell_type": "code",
   "execution_count": null,
   "metadata": {},
   "outputs": [],
   "source": [
    "#Drop unnecessary columns\n",
    "data.drop(['EmployeeCount','EmployeeID','StandardHours','Over18'],axis=1,inplace=True)"
   ]
  },
  {
   "cell_type": "code",
   "execution_count": 32,
   "metadata": {
    "ExecuteTime": {
     "end_time": "2024-12-08T19:58:53.375594Z",
     "start_time": "2024-12-08T19:58:53.373339Z"
    }
   },
   "outputs": [],
   "source": [
    "#Attrition is dependent var\n",
    "from sklearn.preprocessing import LabelEncoder\n",
    "label_encoder_y=LabelEncoder()\n",
    "data['Attrition']=label_encoder_y.fit_transform(data['Attrition'])"
   ]
  },
  {
   "cell_type": "code",
   "execution_count": 34,
   "metadata": {
    "ExecuteTime": {
     "end_time": "2024-12-08T19:59:17.066384Z",
     "start_time": "2024-12-08T19:59:17.062204Z"
    }
   },
   "outputs": [
    {
     "data": {
      "text/plain": "   Attrition  Age     BusinessTravel            Department  DistanceFromHome  \\\n0          0   51      Travel_Rarely                 Sales                 5   \n1          0   32  Travel_Frequently  Research_Development                14   \n2          0   38         Non-Travel  Research_Development                 2   \n3          0   32      Travel_Rarely  Research_Development                 8   \n4          0   46      Travel_Rarely  Research_Development                 6   \n\n   Education EducationField  Gender  JobLevel                    JobRole  \\\n0          2  Life_Sciences  Female         1  Healthcare_Representative   \n1          4          Other    Male         4            Sales_Executive   \n2          5  Life_Sciences    Male         3            Human_Resources   \n3          1        Medical    Male         1            Sales_Executive   \n4          3  Life_Sciences  Female         4          Research_Director   \n\n  MaritalStatus  MonthlyIncome  NumCompaniesWorked  PercentSalaryHike  \\\n0       Married         131160                 1.0                 11   \n1       Married         193280                 1.0                 15   \n2       Married          83210                 3.0                 11   \n3        Single          23420                 4.0                 12   \n4       Married          40710                 3.0                 13   \n\n   StockOptionLevel  TotalWorkingYears  TrainingTimesLastYear  YearsAtCompany  \\\n0                 0                1.0                      6               1   \n1                 3                5.0                      2               5   \n2                 3               13.0                      5               8   \n3                 2                9.0                      2               6   \n4                 0               28.0                      5               7   \n\n   YearsSinceLastPromotion  YearsWithCurrManager  PerformanceRating  \\\n0                        0                     0                  1   \n1                        0                     3                  3   \n2                        7                     5                  3   \n3                        0                     4                  1   \n4                        7                     7                  3   \n\n   JobInvolvement  EnvironmentSatisfaction  JobSatisfaction  WorkLifeBalance  \n0               3                      3.0              4.0              3.0  \n1               2                      3.0              2.0              2.0  \n2               4                      2.0              2.0              4.0  \n3               3                      4.0              4.0              3.0  \n4               3                      4.0              3.0              2.0  ",
      "text/html": "<div>\n<style scoped>\n    .dataframe tbody tr th:only-of-type {\n        vertical-align: middle;\n    }\n\n    .dataframe tbody tr th {\n        vertical-align: top;\n    }\n\n    .dataframe thead th {\n        text-align: right;\n    }\n</style>\n<table border=\"1\" class=\"dataframe\">\n  <thead>\n    <tr style=\"text-align: right;\">\n      <th></th>\n      <th>Attrition</th>\n      <th>Age</th>\n      <th>BusinessTravel</th>\n      <th>Department</th>\n      <th>DistanceFromHome</th>\n      <th>Education</th>\n      <th>EducationField</th>\n      <th>Gender</th>\n      <th>JobLevel</th>\n      <th>JobRole</th>\n      <th>MaritalStatus</th>\n      <th>MonthlyIncome</th>\n      <th>NumCompaniesWorked</th>\n      <th>PercentSalaryHike</th>\n      <th>StockOptionLevel</th>\n      <th>TotalWorkingYears</th>\n      <th>TrainingTimesLastYear</th>\n      <th>YearsAtCompany</th>\n      <th>YearsSinceLastPromotion</th>\n      <th>YearsWithCurrManager</th>\n      <th>PerformanceRating</th>\n      <th>JobInvolvement</th>\n      <th>EnvironmentSatisfaction</th>\n      <th>JobSatisfaction</th>\n      <th>WorkLifeBalance</th>\n    </tr>\n  </thead>\n  <tbody>\n    <tr>\n      <th>0</th>\n      <td>0</td>\n      <td>51</td>\n      <td>Travel_Rarely</td>\n      <td>Sales</td>\n      <td>5</td>\n      <td>2</td>\n      <td>Life_Sciences</td>\n      <td>Female</td>\n      <td>1</td>\n      <td>Healthcare_Representative</td>\n      <td>Married</td>\n      <td>131160</td>\n      <td>1.0</td>\n      <td>11</td>\n      <td>0</td>\n      <td>1.0</td>\n      <td>6</td>\n      <td>1</td>\n      <td>0</td>\n      <td>0</td>\n      <td>1</td>\n      <td>3</td>\n      <td>3.0</td>\n      <td>4.0</td>\n      <td>3.0</td>\n    </tr>\n    <tr>\n      <th>1</th>\n      <td>0</td>\n      <td>32</td>\n      <td>Travel_Frequently</td>\n      <td>Research_Development</td>\n      <td>14</td>\n      <td>4</td>\n      <td>Other</td>\n      <td>Male</td>\n      <td>4</td>\n      <td>Sales_Executive</td>\n      <td>Married</td>\n      <td>193280</td>\n      <td>1.0</td>\n      <td>15</td>\n      <td>3</td>\n      <td>5.0</td>\n      <td>2</td>\n      <td>5</td>\n      <td>0</td>\n      <td>3</td>\n      <td>3</td>\n      <td>2</td>\n      <td>3.0</td>\n      <td>2.0</td>\n      <td>2.0</td>\n    </tr>\n    <tr>\n      <th>2</th>\n      <td>0</td>\n      <td>38</td>\n      <td>Non-Travel</td>\n      <td>Research_Development</td>\n      <td>2</td>\n      <td>5</td>\n      <td>Life_Sciences</td>\n      <td>Male</td>\n      <td>3</td>\n      <td>Human_Resources</td>\n      <td>Married</td>\n      <td>83210</td>\n      <td>3.0</td>\n      <td>11</td>\n      <td>3</td>\n      <td>13.0</td>\n      <td>5</td>\n      <td>8</td>\n      <td>7</td>\n      <td>5</td>\n      <td>3</td>\n      <td>4</td>\n      <td>2.0</td>\n      <td>2.0</td>\n      <td>4.0</td>\n    </tr>\n    <tr>\n      <th>3</th>\n      <td>0</td>\n      <td>32</td>\n      <td>Travel_Rarely</td>\n      <td>Research_Development</td>\n      <td>8</td>\n      <td>1</td>\n      <td>Medical</td>\n      <td>Male</td>\n      <td>1</td>\n      <td>Sales_Executive</td>\n      <td>Single</td>\n      <td>23420</td>\n      <td>4.0</td>\n      <td>12</td>\n      <td>2</td>\n      <td>9.0</td>\n      <td>2</td>\n      <td>6</td>\n      <td>0</td>\n      <td>4</td>\n      <td>1</td>\n      <td>3</td>\n      <td>4.0</td>\n      <td>4.0</td>\n      <td>3.0</td>\n    </tr>\n    <tr>\n      <th>4</th>\n      <td>0</td>\n      <td>46</td>\n      <td>Travel_Rarely</td>\n      <td>Research_Development</td>\n      <td>6</td>\n      <td>3</td>\n      <td>Life_Sciences</td>\n      <td>Female</td>\n      <td>4</td>\n      <td>Research_Director</td>\n      <td>Married</td>\n      <td>40710</td>\n      <td>3.0</td>\n      <td>13</td>\n      <td>0</td>\n      <td>28.0</td>\n      <td>5</td>\n      <td>7</td>\n      <td>7</td>\n      <td>7</td>\n      <td>3</td>\n      <td>3</td>\n      <td>4.0</td>\n      <td>3.0</td>\n      <td>2.0</td>\n    </tr>\n  </tbody>\n</table>\n</div>"
     },
     "execution_count": 34,
     "metadata": {},
     "output_type": "execute_result"
    }
   ],
   "source": [
    "data.head()"
   ]
  },
  {
   "cell_type": "code",
   "execution_count": 35,
   "metadata": {
    "ExecuteTime": {
     "end_time": "2024-12-08T19:59:18.009439Z",
     "start_time": "2024-12-08T19:59:18.006593Z"
    }
   },
   "outputs": [],
   "source": [
    "#Make a list of variables for correlation\n",
    "\n",
    "corr_cols = data[['Age','Attrition','BusinessTravel','DistanceFromHome','Education', 'EducationField','Gender', 'JobLevel', 'JobRole',\n",
    "       'MaritalStatus', 'MonthlyIncome', 'NumCompaniesWorked',\n",
    "       'PercentSalaryHike', 'StockOptionLevel', 'TotalWorkingYears',\n",
    "       'TrainingTimesLastYear', 'YearsAtCompany', 'YearsSinceLastPromotion',\n",
    "       'YearsWithCurrManager', 'EnvironmentSatisfaction','JobSatisfaction','WorkLifeBalance' ]]"
   ]
  },
  {
   "cell_type": "code",
   "execution_count": 36,
   "metadata": {
    "ExecuteTime": {
     "end_time": "2024-12-08T19:59:18.877841Z",
     "start_time": "2024-12-08T19:59:18.797418Z"
    }
   },
   "outputs": [
    {
     "ename": "ValueError",
     "evalue": "could not convert string to float: 'Travel_Rarely'",
     "output_type": "error",
     "traceback": [
      "\u001B[0;31m---------------------------------------------------------------------------\u001B[0m",
      "\u001B[0;31mValueError\u001B[0m                                Traceback (most recent call last)",
      "Cell \u001B[0;32mIn[36], line 1\u001B[0m\n\u001B[0;32m----> 1\u001B[0m corr \u001B[38;5;241m=\u001B[39m \u001B[43mcorr_cols\u001B[49m\u001B[38;5;241;43m.\u001B[39;49m\u001B[43mcorr\u001B[49m\u001B[43m(\u001B[49m\u001B[43m)\u001B[49m\n\u001B[1;32m      2\u001B[0m plt\u001B[38;5;241m.\u001B[39mfigure(figsize\u001B[38;5;241m=\u001B[39m(\u001B[38;5;241m18\u001B[39m,\u001B[38;5;241m10\u001B[39m))\n\u001B[1;32m      3\u001B[0m sns\u001B[38;5;241m.\u001B[39mheatmap(corr, annot \u001B[38;5;241m=\u001B[39m \u001B[38;5;28;01mTrue\u001B[39;00m)\n",
      "File \u001B[0;32m~/Documents/CS/MADSWorkbook/venv/lib/python3.10/site-packages/pandas/core/frame.py:11049\u001B[0m, in \u001B[0;36mDataFrame.corr\u001B[0;34m(self, method, min_periods, numeric_only)\u001B[0m\n\u001B[1;32m  11047\u001B[0m cols \u001B[38;5;241m=\u001B[39m data\u001B[38;5;241m.\u001B[39mcolumns\n\u001B[1;32m  11048\u001B[0m idx \u001B[38;5;241m=\u001B[39m cols\u001B[38;5;241m.\u001B[39mcopy()\n\u001B[0;32m> 11049\u001B[0m mat \u001B[38;5;241m=\u001B[39m \u001B[43mdata\u001B[49m\u001B[38;5;241;43m.\u001B[39;49m\u001B[43mto_numpy\u001B[49m\u001B[43m(\u001B[49m\u001B[43mdtype\u001B[49m\u001B[38;5;241;43m=\u001B[39;49m\u001B[38;5;28;43mfloat\u001B[39;49m\u001B[43m,\u001B[49m\u001B[43m \u001B[49m\u001B[43mna_value\u001B[49m\u001B[38;5;241;43m=\u001B[39;49m\u001B[43mnp\u001B[49m\u001B[38;5;241;43m.\u001B[39;49m\u001B[43mnan\u001B[49m\u001B[43m,\u001B[49m\u001B[43m \u001B[49m\u001B[43mcopy\u001B[49m\u001B[38;5;241;43m=\u001B[39;49m\u001B[38;5;28;43;01mFalse\u001B[39;49;00m\u001B[43m)\u001B[49m\n\u001B[1;32m  11051\u001B[0m \u001B[38;5;28;01mif\u001B[39;00m method \u001B[38;5;241m==\u001B[39m \u001B[38;5;124m\"\u001B[39m\u001B[38;5;124mpearson\u001B[39m\u001B[38;5;124m\"\u001B[39m:\n\u001B[1;32m  11052\u001B[0m     correl \u001B[38;5;241m=\u001B[39m libalgos\u001B[38;5;241m.\u001B[39mnancorr(mat, minp\u001B[38;5;241m=\u001B[39mmin_periods)\n",
      "File \u001B[0;32m~/Documents/CS/MADSWorkbook/venv/lib/python3.10/site-packages/pandas/core/frame.py:1993\u001B[0m, in \u001B[0;36mDataFrame.to_numpy\u001B[0;34m(self, dtype, copy, na_value)\u001B[0m\n\u001B[1;32m   1991\u001B[0m \u001B[38;5;28;01mif\u001B[39;00m dtype \u001B[38;5;129;01mis\u001B[39;00m \u001B[38;5;129;01mnot\u001B[39;00m \u001B[38;5;28;01mNone\u001B[39;00m:\n\u001B[1;32m   1992\u001B[0m     dtype \u001B[38;5;241m=\u001B[39m np\u001B[38;5;241m.\u001B[39mdtype(dtype)\n\u001B[0;32m-> 1993\u001B[0m result \u001B[38;5;241m=\u001B[39m \u001B[38;5;28;43mself\u001B[39;49m\u001B[38;5;241;43m.\u001B[39;49m\u001B[43m_mgr\u001B[49m\u001B[38;5;241;43m.\u001B[39;49m\u001B[43mas_array\u001B[49m\u001B[43m(\u001B[49m\u001B[43mdtype\u001B[49m\u001B[38;5;241;43m=\u001B[39;49m\u001B[43mdtype\u001B[49m\u001B[43m,\u001B[49m\u001B[43m \u001B[49m\u001B[43mcopy\u001B[49m\u001B[38;5;241;43m=\u001B[39;49m\u001B[43mcopy\u001B[49m\u001B[43m,\u001B[49m\u001B[43m \u001B[49m\u001B[43mna_value\u001B[49m\u001B[38;5;241;43m=\u001B[39;49m\u001B[43mna_value\u001B[49m\u001B[43m)\u001B[49m\n\u001B[1;32m   1994\u001B[0m \u001B[38;5;28;01mif\u001B[39;00m result\u001B[38;5;241m.\u001B[39mdtype \u001B[38;5;129;01mis\u001B[39;00m \u001B[38;5;129;01mnot\u001B[39;00m dtype:\n\u001B[1;32m   1995\u001B[0m     result \u001B[38;5;241m=\u001B[39m np\u001B[38;5;241m.\u001B[39masarray(result, dtype\u001B[38;5;241m=\u001B[39mdtype)\n",
      "File \u001B[0;32m~/Documents/CS/MADSWorkbook/venv/lib/python3.10/site-packages/pandas/core/internals/managers.py:1694\u001B[0m, in \u001B[0;36mBlockManager.as_array\u001B[0;34m(self, dtype, copy, na_value)\u001B[0m\n\u001B[1;32m   1692\u001B[0m         arr\u001B[38;5;241m.\u001B[39mflags\u001B[38;5;241m.\u001B[39mwriteable \u001B[38;5;241m=\u001B[39m \u001B[38;5;28;01mFalse\u001B[39;00m\n\u001B[1;32m   1693\u001B[0m \u001B[38;5;28;01melse\u001B[39;00m:\n\u001B[0;32m-> 1694\u001B[0m     arr \u001B[38;5;241m=\u001B[39m \u001B[38;5;28;43mself\u001B[39;49m\u001B[38;5;241;43m.\u001B[39;49m\u001B[43m_interleave\u001B[49m\u001B[43m(\u001B[49m\u001B[43mdtype\u001B[49m\u001B[38;5;241;43m=\u001B[39;49m\u001B[43mdtype\u001B[49m\u001B[43m,\u001B[49m\u001B[43m \u001B[49m\u001B[43mna_value\u001B[49m\u001B[38;5;241;43m=\u001B[39;49m\u001B[43mna_value\u001B[49m\u001B[43m)\u001B[49m\n\u001B[1;32m   1695\u001B[0m     \u001B[38;5;66;03m# The underlying data was copied within _interleave, so no need\u001B[39;00m\n\u001B[1;32m   1696\u001B[0m     \u001B[38;5;66;03m# to further copy if copy=True or setting na_value\u001B[39;00m\n\u001B[1;32m   1698\u001B[0m \u001B[38;5;28;01mif\u001B[39;00m na_value \u001B[38;5;129;01mis\u001B[39;00m lib\u001B[38;5;241m.\u001B[39mno_default:\n",
      "File \u001B[0;32m~/Documents/CS/MADSWorkbook/venv/lib/python3.10/site-packages/pandas/core/internals/managers.py:1753\u001B[0m, in \u001B[0;36mBlockManager._interleave\u001B[0;34m(self, dtype, na_value)\u001B[0m\n\u001B[1;32m   1751\u001B[0m     \u001B[38;5;28;01melse\u001B[39;00m:\n\u001B[1;32m   1752\u001B[0m         arr \u001B[38;5;241m=\u001B[39m blk\u001B[38;5;241m.\u001B[39mget_values(dtype)\n\u001B[0;32m-> 1753\u001B[0m     \u001B[43mresult\u001B[49m\u001B[43m[\u001B[49m\u001B[43mrl\u001B[49m\u001B[38;5;241;43m.\u001B[39;49m\u001B[43mindexer\u001B[49m\u001B[43m]\u001B[49m \u001B[38;5;241m=\u001B[39m arr\n\u001B[1;32m   1754\u001B[0m     itemmask[rl\u001B[38;5;241m.\u001B[39mindexer] \u001B[38;5;241m=\u001B[39m \u001B[38;5;241m1\u001B[39m\n\u001B[1;32m   1756\u001B[0m \u001B[38;5;28;01mif\u001B[39;00m \u001B[38;5;129;01mnot\u001B[39;00m itemmask\u001B[38;5;241m.\u001B[39mall():\n",
      "\u001B[0;31mValueError\u001B[0m: could not convert string to float: 'Travel_Rarely'"
     ]
    }
   ],
   "source": [
    "corr = corr_cols.corr()\n",
    "plt.figure(figsize=(18,10))\n",
    "sns.heatmap(corr, annot = True)\n",
    "plt.show()"
   ]
  },
  {
   "cell_type": "markdown",
   "metadata": {},
   "source": [
    "Looking above, we can get a general sense of some of the relationships at play with our data."
   ]
  },
  {
   "cell_type": "code",
   "execution_count": 17,
   "metadata": {},
   "outputs": [
    {
     "data": {
      "image/png": "[encoded data removed]",
      "text/plain": [
       "<Figure size 640x480 with 1 Axes>"
      ]
     },
     "metadata": {},
     "output_type": "display_data"
    }
   ],
   "source": [
    "sns.countplot(x = \"Attrition\",data=data,hue=\"Gender\")\n",
    "plt.show()"
   ]
  },
  {
   "cell_type": "code",
   "execution_count": 18,
   "metadata": {},
   "outputs": [
    {
     "data": {
      "image/png": "[encoded data removed]",
      "text/plain": [
       "<Figure size 640x480 with 1 Axes>"
      ]
     },
     "metadata": {},
     "output_type": "display_data"
    }
   ],
   "source": [
    "sns.countplot(x = \"Attrition\",data=data,hue=\"JobLevel\")\n",
    "plt.show()"
   ]
  },
  {
   "cell_type": "code",
   "execution_count": 19,
   "metadata": {},
   "outputs": [],
   "source": [
    "#Bin the age variable into buckets for easier EDA\n",
    "data['Age_Bin']=pd.cut(x = data['Age'],\n",
    "                        bins = [0,30,40,50,60], \n",
    "                        labels = [0, 1, 2,3])"
   ]
  },
  {
   "cell_type": "code",
   "execution_count": 20,
   "metadata": {},
   "outputs": [
    {
     "data": {
      "text/plain": [
       "Index(['Attrition', 'Age', 'BusinessTravel', 'Department', 'DistanceFromHome',\n",
       "       'Education', 'EducationField', 'Gender', 'JobLevel', 'JobRole',\n",
       "       'MaritalStatus', 'MonthlyIncome', 'NumCompaniesWorked',\n",
       "       'PercentSalaryHike', 'StockOptionLevel', 'TotalWorkingYears',\n",
       "       'TrainingTimesLastYear', 'YearsAtCompany', 'YearsSinceLastPromotion',\n",
       "       'YearsWithCurrManager', 'PerformanceRating', 'JobInvolvement',\n",
       "       'EnvironmentSatisfaction', 'JobSatisfaction', 'WorkLifeBalance',\n",
       "       'NumCompaniesWorked_Missing', 'TotalWorkngYears_Missing',\n",
       "       'EnvironmentSatisfaction_Missing', 'JobSatisfaction_Missing',\n",
       "       'WorkLifeBalance_Missing', 'Age_Bin'],\n",
       "      dtype='object')"
      ]
     },
     "execution_count": 20,
     "metadata": {},
     "output_type": "execute_result"
    }
   ],
   "source": [
    "data.columns"
   ]
  },
  {
   "cell_type": "code",
   "execution_count": 21,
   "metadata": {
    "scrolled": true
   },
   "outputs": [
    {
     "data": {
      "image/png": "[encoded data removed]",
      "text/plain": [
       "<Figure size 640x480 with 1 Axes>"
      ]
     },
     "metadata": {},
     "output_type": "display_data"
    }
   ],
   "source": [
    "sns.countplot(x = \"Attrition\",data=data,hue=\"Age_Bin\")\n",
    "plt.show()"
   ]
  },
  {
   "cell_type": "code",
   "execution_count": 22,
   "metadata": {},
   "outputs": [
    {
     "name": "stderr",
     "output_type": "stream",
     "text": [
      "/tmp/ipykernel_73/1965918915.py:1: FutureWarning: The default value of numeric_only in DataFrameGroupBy.mean is deprecated. In a future version, numeric_only will default to False. Either specify numeric_only or select only columns which should be valid for the function.\n",
      "  data.groupby('Attrition').mean().round(1)\n"
     ]
    },
    {
     "data": {
      "text/html": [
       "<div>\n",
       "<style scoped>\n",
       "    .dataframe tbody tr th:only-of-type {\n",
       "        vertical-align: middle;\n",
       "    }\n",
       "\n",
       "    .dataframe tbody tr th {\n",
       "        vertical-align: top;\n",
       "    }\n",
       "\n",
       "    .dataframe thead th {\n",
       "        text-align: right;\n",
       "    }\n",
       "</style>\n",
       "<table border=\"1\" class=\"dataframe\">\n",
       "  <thead>\n",
       "    <tr style=\"text-align: right;\">\n",
       "      <th></th>\n",
       "      <th>Age</th>\n",
       "      <th>DistanceFromHome</th>\n",
       "      <th>Education</th>\n",
       "      <th>JobLevel</th>\n",
       "      <th>MonthlyIncome</th>\n",
       "      <th>NumCompaniesWorked</th>\n",
       "      <th>PercentSalaryHike</th>\n",
       "      <th>StockOptionLevel</th>\n",
       "      <th>TotalWorkingYears</th>\n",
       "      <th>TrainingTimesLastYear</th>\n",
       "      <th>YearsAtCompany</th>\n",
       "      <th>YearsSinceLastPromotion</th>\n",
       "      <th>YearsWithCurrManager</th>\n",
       "      <th>PerformanceRating</th>\n",
       "      <th>JobInvolvement</th>\n",
       "      <th>EnvironmentSatisfaction</th>\n",
       "      <th>JobSatisfaction</th>\n",
       "      <th>WorkLifeBalance</th>\n",
       "      <th>NumCompaniesWorked_Missing</th>\n",
       "      <th>TotalWorkngYears_Missing</th>\n",
       "      <th>EnvironmentSatisfaction_Missing</th>\n",
       "      <th>JobSatisfaction_Missing</th>\n",
       "      <th>WorkLifeBalance_Missing</th>\n",
       "    </tr>\n",
       "    <tr>\n",
       "      <th>Attrition</th>\n",
       "      <th></th>\n",
       "      <th></th>\n",
       "      <th></th>\n",
       "      <th></th>\n",
       "      <th></th>\n",
       "      <th></th>\n",
       "      <th></th>\n",
       "      <th></th>\n",
       "      <th></th>\n",
       "      <th></th>\n",
       "      <th></th>\n",
       "      <th></th>\n",
       "      <th></th>\n",
       "      <th></th>\n",
       "      <th></th>\n",
       "      <th></th>\n",
       "      <th></th>\n",
       "      <th></th>\n",
       "      <th></th>\n",
       "      <th></th>\n",
       "      <th></th>\n",
       "      <th></th>\n",
       "      <th></th>\n",
       "    </tr>\n",
       "  </thead>\n",
       "  <tbody>\n",
       "    <tr>\n",
       "      <th>0</th>\n",
       "      <td>37.6</td>\n",
       "      <td>7.4</td>\n",
       "      <td>2.9</td>\n",
       "      <td>2.1</td>\n",
       "      <td>65672.6</td>\n",
       "      <td>2.6</td>\n",
       "      <td>15.2</td>\n",
       "      <td>0.8</td>\n",
       "      <td>11.9</td>\n",
       "      <td>2.8</td>\n",
       "      <td>7.4</td>\n",
       "      <td>2.2</td>\n",
       "      <td>4.4</td>\n",
       "      <td>3.1</td>\n",
       "      <td>3.2</td>\n",
       "      <td>3.1</td>\n",
       "      <td>3.2</td>\n",
       "      <td>3.2</td>\n",
       "      <td>1.0</td>\n",
       "      <td>1.0</td>\n",
       "      <td>1.0</td>\n",
       "      <td>1.0</td>\n",
       "      <td>1.0</td>\n",
       "    </tr>\n",
       "    <tr>\n",
       "      <th>1</th>\n",
       "      <td>33.6</td>\n",
       "      <td>10.7</td>\n",
       "      <td>2.9</td>\n",
       "      <td>2.0</td>\n",
       "      <td>61682.6</td>\n",
       "      <td>2.9</td>\n",
       "      <td>10.3</td>\n",
       "      <td>0.8</td>\n",
       "      <td>8.3</td>\n",
       "      <td>2.7</td>\n",
       "      <td>5.1</td>\n",
       "      <td>1.9</td>\n",
       "      <td>2.9</td>\n",
       "      <td>2.2</td>\n",
       "      <td>2.3</td>\n",
       "      <td>2.3</td>\n",
       "      <td>2.4</td>\n",
       "      <td>1.9</td>\n",
       "      <td>1.0</td>\n",
       "      <td>1.0</td>\n",
       "      <td>1.0</td>\n",
       "      <td>1.0</td>\n",
       "      <td>1.0</td>\n",
       "    </tr>\n",
       "  </tbody>\n",
       "</table>\n",
       "</div>"
      ],
      "text/plain": [
       "            Age  DistanceFromHome  Education  JobLevel  MonthlyIncome  \\\n",
       "Attrition                                                               \n",
       "0          37.6               7.4        2.9       2.1        65672.6   \n",
       "1          33.6              10.7        2.9       2.0        61682.6   \n",
       "\n",
       "           NumCompaniesWorked  PercentSalaryHike  StockOptionLevel  \\\n",
       "Attrition                                                            \n",
       "0                         2.6               15.2               0.8   \n",
       "1                         2.9               10.3               0.8   \n",
       "\n",
       "           TotalWorkingYears  TrainingTimesLastYear  YearsAtCompany  \\\n",
       "Attrition                                                             \n",
       "0                       11.9                    2.8             7.4   \n",
       "1                        8.3                    2.7             5.1   \n",
       "\n",
       "           YearsSinceLastPromotion  YearsWithCurrManager  PerformanceRating  \\\n",
       "Attrition                                                                     \n",
       "0                              2.2                   4.4                3.1   \n",
       "1                              1.9                   2.9                2.2   \n",
       "\n",
       "           JobInvolvement  EnvironmentSatisfaction  JobSatisfaction  \\\n",
       "Attrition                                                             \n",
       "0                     3.2                      3.1              3.2   \n",
       "1                     2.3                      2.3              2.4   \n",
       "\n",
       "           WorkLifeBalance  NumCompaniesWorked_Missing  \\\n",
       "Attrition                                                \n",
       "0                      3.2                         1.0   \n",
       "1                      1.9                         1.0   \n",
       "\n",
       "           TotalWorkngYears_Missing  EnvironmentSatisfaction_Missing  \\\n",
       "Attrition                                                              \n",
       "0                               1.0                              1.0   \n",
       "1                               1.0                              1.0   \n",
       "\n",
       "           JobSatisfaction_Missing  WorkLifeBalance_Missing  \n",
       "Attrition                                                    \n",
       "0                              1.0                      1.0  \n",
       "1                              1.0                      1.0  "
      ]
     },
     "execution_count": 22,
     "metadata": {},
     "output_type": "execute_result"
    }
   ],
   "source": [
    "data.groupby('Attrition').mean().round(1)"
   ]
  },
  {
   "cell_type": "markdown",
   "metadata": {},
   "source": [
    "#### Design Note 2.2\n",
    "\n",
    "Categorical data can pose challenges for many machine learning and regression algorithims. Many models only accept numerical variables, so we must process the categorical variables we have into numeric variables. There are several strategies to do this, all of which have advantages and disadvantages. We will cover these at a basic level, starting with a strategy that is not recommended.\n",
    "\n",
    "1. Label encoding: In label encoding, we convert the categories (```Color```: Green, Blue, Red, Orange, Yellow) into a numeric scale (Green = 1, Blue = 2, Red = 3, Orange = 4, etc.). While a model will run with this approach, label encoding introduces the interpretative and modeling challenges. By scaling these categories as numbers in a single column, we are effectively saying Blue is twice Green and Orange is four times Blue. While this technique is used in data science, this obviously is a confused interpretation and should usually be avoided.\n",
    "2. One-hot encoding: This is a popular strategy where we convert each unique value in a categorical variable into its own binary dummy variable (1/0). For example, we would make each unique color value in our ```Color``` variable into a separate dummy variable. Thus, we make a new variable called ```Red``` and encode it 1 if the value was red, and 0 if it is not. We would do the same for the other variables. This approach is a common one in data science, though it can lead to sparse data sets that may diminish model performance. It also can lead to the curse of dimensionality. If we have a variable called ```cities``` and had 100 different cities around the world respresented in the variable (Beijing, London, Paris, etc.), we would need to one-hot encode 100 different variables to represent this categorical variable. \n",
    "3. Dummy encoding: Dummy encoding is a similar approach to one-hot encoding. The primary difference is that in one-hot encoding the number of additional dummy variables we create is equal to the number of unique categories in the categorical variable (n). In dummy encoding, the number of additional variables is one less than the number of unique values in the categorical variable (n-1). We make a dummy variable (similar to one-hot) for Green, Blue, Red, and Orange; however, we would not make a dummy variable for Yellow. Instead, Yellow would be represented by all 0s in the other colors. The advantage here is that we have one less variable to contend with, which helps incrementally with the curse of dimensionality. \n",
    "4. Target encoding: A less familiar example of encoding is target encoding. In this approach, we populate the categorical values for a specific varaible with the mean of the target variable. For example, if our categorical variable is ```Education``` with unique values of {High School, Bachelors, Masters, PhD} and our target variable is salary, we would populate every 'High School' value with the mean value of salary for those who 'High School' for education. If the mean high school salary was 37K INR, then we replace 'High School' values in ```Education``` with ₹37K. This technique has some potential disadvantages, such as the possibility of leakage or overfitting.\n",
    "\n",
    "There are many other approaches to working with categorical predictors. For purposes of this exericise, we will use dummy variables."
   ]
  },
  {
   "cell_type": "code",
   "execution_count": 23,
   "metadata": {},
   "outputs": [
    {
     "name": "stdout",
     "output_type": "stream",
     "text": [
      "['Travel_Rarely' 'Travel_Frequently' 'Non-Travel']\n",
      "['Life_Sciences' 'Other' 'Medical' 'Marketing' 'Technical_Degree' 'HR']\n",
      "['Female' 'Male']\n",
      "['Sales' 'Research_Development' 'Human_Resources']\n",
      "['Healthcare_Representative' 'Sales_Executive' 'Human_Resources'\n",
      " 'Research_Director' 'Laboratory_Technician' 'Manufacturing_Director'\n",
      " 'Sales_Representative' 'Manager' 'Research_Scientist']\n",
      "['Married' 'Single' 'Divorced']\n"
     ]
    }
   ],
   "source": [
    "#For reference, let's view the data in the categorical predictors. What are the unique values in each variable?\n",
    "print(data['BusinessTravel'].unique())\n",
    "print(data['EducationField'].unique())\n",
    "print(data['Gender'].unique())\n",
    "print(data['Department'].unique())\n",
    "print(data['JobRole'].unique())\n",
    "print(data['MaritalStatus'].unique())"
   ]
  },
  {
   "cell_type": "code",
   "execution_count": 24,
   "metadata": {},
   "outputs": [],
   "source": [
    "#Convert the Categorical Variables to dummy variables. We use the drop_first=True option to eliminate the first "
   ]
  },
  {
   "cell_type": "code",
   "execution_count": 25,
   "metadata": {},
   "outputs": [],
   "source": [
    "df = pd.get_dummies(data, columns=['Gender', 'JobRole', 'BusinessTravel','Education','EducationField','JobLevel','MaritalStatus','Department','StockOptionLevel'],drop_first=True)"
   ]
  },
  {
   "cell_type": "markdown",
   "metadata": {},
   "source": [
    "#### Design Note 2.3\n",
    "\n",
    "There are some advantages to standardizing the data before we begin building the models, particularly if we want to compare the magnitude of the coefficients. If the underlying variables have different units of measurement and variances (e.g. age vs. monthly income), then the magnitude of the coefficients are not directly comparable. If we standardize those variables (mean = 0, standard deviation = 1), then we can directly compare the coefficients. This does, however, complicate the intuition of interpretation. See the Introduction to Logistic Regression white paper for more detail. "
   ]
  },
  {
   "cell_type": "code",
   "execution_count": 26,
   "metadata": {},
   "outputs": [],
   "source": [
    "df[['Age_sd','DistanceFromHome_sd','MonthlyIncome_sd','NumCompaniesWorked_sd','PercentSalaryHike_sd','TotalWorkingYears_sd',\n",
    "    'TrainingTimesLastYear_sd','YearsAtCompany_sd','YearsSinceLastPromotion_sd','YearsWithCurrManager_sd',\n",
    "    'PerformanceRating_sd','JobInvolvement_sd','EnvironmentSatisfaction_sd','JobSatisfaction_sd','WorkLifeBalance_sd']] = StandardScaler().fit_transform(df[['Age','DistanceFromHome','MonthlyIncome','NumCompaniesWorked','PercentSalaryHike',\n",
    "                                       'TotalWorkingYears','TrainingTimesLastYear','YearsAtCompany','YearsSinceLastPromotion',\n",
    "                                       'YearsWithCurrManager','PerformanceRating','JobInvolvement','EnvironmentSatisfaction',\n",
    "                                       'JobSatisfaction','WorkLifeBalance' ]])\n"
   ]
  },
  {
   "cell_type": "code",
   "execution_count": 27,
   "metadata": {},
   "outputs": [
    {
     "name": "stdout",
     "output_type": "stream",
     "text": [
      "<class 'pandas.core.frame.DataFrame'>\n",
      "RangeIndex: 4410 entries, 0 to 4409\n",
      "Data columns (total 68 columns):\n",
      " #   Column                            Non-Null Count  Dtype   \n",
      "---  ------                            --------------  -----   \n",
      " 0   Attrition                         4410 non-null   int64   \n",
      " 1   Age                               4410 non-null   int64   \n",
      " 2   DistanceFromHome                  4410 non-null   int64   \n",
      " 3   MonthlyIncome                     4410 non-null   int64   \n",
      " 4   NumCompaniesWorked                4410 non-null   float64 \n",
      " 5   PercentSalaryHike                 4410 non-null   int64   \n",
      " 6   TotalWorkingYears                 4410 non-null   float64 \n",
      " 7   TrainingTimesLastYear             4410 non-null   int64   \n",
      " 8   YearsAtCompany                    4410 non-null   int64   \n",
      " 9   YearsSinceLastPromotion           4410 non-null   int64   \n",
      " 10  YearsWithCurrManager              4410 non-null   int64   \n",
      " 11  PerformanceRating                 4410 non-null   int64   \n",
      " 12  JobInvolvement                    4410 non-null   int64   \n",
      " 13  EnvironmentSatisfaction           4410 non-null   float64 \n",
      " 14  JobSatisfaction                   4410 non-null   float64 \n",
      " 15  WorkLifeBalance                   4410 non-null   float64 \n",
      " 16  NumCompaniesWorked_Missing        4410 non-null   int64   \n",
      " 17  TotalWorkngYears_Missing          4410 non-null   int64   \n",
      " 18  EnvironmentSatisfaction_Missing   4410 non-null   int64   \n",
      " 19  JobSatisfaction_Missing           4410 non-null   int64   \n",
      " 20  WorkLifeBalance_Missing           4410 non-null   int64   \n",
      " 21  Age_Bin                           4410 non-null   category\n",
      " 22  Gender_Male                       4410 non-null   uint8   \n",
      " 23  JobRole_Human_Resources           4410 non-null   uint8   \n",
      " 24  JobRole_Laboratory_Technician     4410 non-null   uint8   \n",
      " 25  JobRole_Manager                   4410 non-null   uint8   \n",
      " 26  JobRole_Manufacturing_Director    4410 non-null   uint8   \n",
      " 27  JobRole_Research_Director         4410 non-null   uint8   \n",
      " 28  JobRole_Research_Scientist        4410 non-null   uint8   \n",
      " 29  JobRole_Sales_Executive           4410 non-null   uint8   \n",
      " 30  JobRole_Sales_Representative      4410 non-null   uint8   \n",
      " 31  BusinessTravel_Travel_Frequently  4410 non-null   uint8   \n",
      " 32  BusinessTravel_Travel_Rarely      4410 non-null   uint8   \n",
      " 33  Education_2                       4410 non-null   uint8   \n",
      " 34  Education_3                       4410 non-null   uint8   \n",
      " 35  Education_4                       4410 non-null   uint8   \n",
      " 36  Education_5                       4410 non-null   uint8   \n",
      " 37  EducationField_Life_Sciences      4410 non-null   uint8   \n",
      " 38  EducationField_Marketing          4410 non-null   uint8   \n",
      " 39  EducationField_Medical            4410 non-null   uint8   \n",
      " 40  EducationField_Other              4410 non-null   uint8   \n",
      " 41  EducationField_Technical_Degree   4410 non-null   uint8   \n",
      " 42  JobLevel_2                        4410 non-null   uint8   \n",
      " 43  JobLevel_3                        4410 non-null   uint8   \n",
      " 44  JobLevel_4                        4410 non-null   uint8   \n",
      " 45  JobLevel_5                        4410 non-null   uint8   \n",
      " 46  MaritalStatus_Married             4410 non-null   uint8   \n",
      " 47  MaritalStatus_Single              4410 non-null   uint8   \n",
      " 48  Department_Research_Development   4410 non-null   uint8   \n",
      " 49  Department_Sales                  4410 non-null   uint8   \n",
      " 50  StockOptionLevel_1                4410 non-null   uint8   \n",
      " 51  StockOptionLevel_2                4410 non-null   uint8   \n",
      " 52  StockOptionLevel_3                4410 non-null   uint8   \n",
      " 53  Age_sd                            4410 non-null   float64 \n",
      " 54  DistanceFromHome_sd               4410 non-null   float64 \n",
      " 55  MonthlyIncome_sd                  4410 non-null   float64 \n",
      " 56  NumCompaniesWorked_sd             4410 non-null   float64 \n",
      " 57  PercentSalaryHike_sd              4410 non-null   float64 \n",
      " 58  TotalWorkingYears_sd              4410 non-null   float64 \n",
      " 59  TrainingTimesLastYear_sd          4410 non-null   float64 \n",
      " 60  YearsAtCompany_sd                 4410 non-null   float64 \n",
      " 61  YearsSinceLastPromotion_sd        4410 non-null   float64 \n",
      " 62  YearsWithCurrManager_sd           4410 non-null   float64 \n",
      " 63  PerformanceRating_sd              4410 non-null   float64 \n",
      " 64  JobInvolvement_sd                 4410 non-null   float64 \n",
      " 65  EnvironmentSatisfaction_sd        4410 non-null   float64 \n",
      " 66  JobSatisfaction_sd                4410 non-null   float64 \n",
      " 67  WorkLifeBalance_sd                4410 non-null   float64 \n",
      "dtypes: category(1), float64(20), int64(16), uint8(31)\n",
      "memory usage: 1.3 MB\n"
     ]
    }
   ],
   "source": [
    "#View the results of the dummy variable process.\n",
    "df.info()"
   ]
  },
  {
   "cell_type": "markdown",
   "metadata": {},
   "source": [
    "#### Design Note 2.4\n",
    "\n",
    "When building a classification model, it is important to understand the balance of the classes of the response variable. If we find that the classes are out-of-balance, then we would need some form of correct action.  Unbalanced data can lead to a bias where the model favors the majority class as a means to drive overall performance (accuracy) and underpredict the minority class. For example, we are building a predictive classifier for bank loans where the model classifies customer accounts into two groups: default or non-default. If in the training data, 99% of the customers do not default on their loans, then the predictive model could predict *all* the outcomes as 'non-default' and the model would be 99% accurate. \n",
    "\n",
    "Looking at the data below, we see that our reponse variable (attrition) has more 0s (non-attrition of an employee) than 1s (attrition of employees). Specifically, only 16% of our data set consists of attrition records (1s). This imbalance can hurt the overall model performance, so we need to consider solutions. There are two common approaches to class imbalance:\n",
    "\n",
    "1. Over or under sample. One approach common to data science is balancing the classess of the response variable by either deleting cases of the majority class (undersampling) or duplicating samples from the minority class (oversampling). Through these two approaches, we can bring balance to a response varaible. While this does solve the class imbalance problem, the sampling processs does introduce sampling bias to the process. A third option is to oversample some and undersample some to bring the classes into balance.\n",
    "\n",
    "2. A second strategy available in some classification algorithms is to use a weighted penalty for prediction errors associated with the minority class. Under these scenarios, the algorithm enacts lighter penalties for prediction errors for the majority class, and enforces heftier penalties for errors associated with the majority class. Not every stats/machine learning package has this option, though sklearn does offer weighting for logistic regression.\n",
    "\n",
    "Given the lack of balance in the response variable, we will employ a technique above. We'll use SMOTE in this example."
   ]
  },
  {
   "cell_type": "code",
   "execution_count": 38,
   "metadata": {
    "ExecuteTime": {
     "end_time": "2024-12-08T20:22:37.122600Z",
     "start_time": "2024-12-08T20:22:37.072459Z"
    }
   },
   "outputs": [
    {
     "data": {
      "text/plain": "<Figure size 640x480 with 1 Axes>",
      "image/png": "[encoded data removed]"
     },
     "metadata": {},
     "output_type": "display_data"
    },
    {
     "name": "stdout",
     "output_type": "stream",
     "text": [
      "The percentage of employees leaving is 16%\n"
     ]
    }
   ],
   "source": [
    "sns.countplot(x = \"Attrition\",data=data)\n",
    "plt.show()\n",
    "print('The percentage of employees leaving is ' +  \"{:.0%}\".format(data['Attrition'].mean()))"
   ]
  },
  {
   "cell_type": "markdown",
   "metadata": {},
   "source": [
    "Before we can balance our response variable with SMOTE, we need to separate our validation and test set (so we do not alter its composition). We want to keep the imbalance in test because that is our reality-check. We remove the imbalance in the training data to improve the model performance, which we can validate on the unbalanced test set. "
   ]
  },
  {
   "cell_type": "code",
   "execution_count": 29,
   "metadata": {},
   "outputs": [],
   "source": [
    "#Use the function below to create a training [70%], validation [15%], and test set [15%].\n",
    "def train_validate_test_split(df, train_percent=.7, validate_percent=.15, seed=None):\n",
    "    np.random.seed(seed)\n",
    "    perm = np.random.permutation(df.index)\n",
    "    m = len(df.index)\n",
    "    train_end = int(train_percent * m)\n",
    "    validate_end = int(validate_percent * m) + train_end\n",
    "    train = df.iloc[perm[:train_end]]\n",
    "    validate = df.iloc[perm[train_end:validate_end]]\n",
    "    test = df.iloc[perm[validate_end:]]\n",
    "    return train, validate, test"
   ]
  },
  {
   "cell_type": "code",
   "execution_count": 30,
   "metadata": {},
   "outputs": [],
   "source": [
    "train, validate, test = train_validate_test_split(df)"
   ]
  },
  {
   "cell_type": "code",
   "execution_count": 31,
   "metadata": {},
   "outputs": [],
   "source": [
    "#set the smote up\n",
    "y = train['Attrition']\n",
    "X = train.drop(['Attrition'], axis = 1)\n",
    "sm = SMOTE(random_state=42)"
   ]
  },
  {
   "cell_type": "code",
   "execution_count": 32,
   "metadata": {},
   "outputs": [],
   "source": [
    "X_sm, y_sm = sm.fit_resample(X, y)"
   ]
  },
  {
   "cell_type": "code",
   "execution_count": 33,
   "metadata": {},
   "outputs": [
    {
     "name": "stdout",
     "output_type": "stream",
     "text": [
      "Shape of X before SMOTE: (3087, 67)\n",
      "Shape of X after SMOTE: (5206, 67)\n"
     ]
    }
   ],
   "source": [
    "#Notice that the shape of X before and after rebalancing. \n",
    "#The data frame has grown to include more cases of where employee attrition = 1. \n",
    "print(f'''Shape of X before SMOTE: {X.shape}\n",
    "Shape of X after SMOTE: {X_sm.shape}''')"
   ]
  },
  {
   "cell_type": "code",
   "execution_count": 34,
   "metadata": {},
   "outputs": [
    {
     "data": {
      "text/plain": [
       "0.5"
      ]
     },
     "execution_count": 34,
     "metadata": {},
     "output_type": "execute_result"
    }
   ],
   "source": [
    "#Check that response variable is now balanced (i.e. 50% of the cases are when attrition = 1)\n",
    "y_sm.mean()"
   ]
  },
  {
   "cell_type": "code",
   "execution_count": 35,
   "metadata": {},
   "outputs": [
    {
     "data": {
      "text/plain": [
       "(5206, 68)"
      ]
     },
     "execution_count": 35,
     "metadata": {},
     "output_type": "execute_result"
    }
   ],
   "source": [
    "#Remerge the data\n",
    "tr_sm = pd.concat([y_sm, X_sm], axis=1)\n",
    "tr_sm.shape"
   ]
  },
  {
   "cell_type": "markdown",
   "metadata": {},
   "source": [
    "Now that we have addressed some of the basic issues with our original data, we can export the train, validate, and move on to the model building phase."
   ]
  },
  {
   "cell_type": "code",
   "execution_count": 36,
   "metadata": {
    "tags": []
   },
   "outputs": [],
   "source": [
    "tr_sm.to_csv(r'../Hr Analytics/data/train_SM.csv')\n",
    "validate.to_csv(r'../Hr Analytics/data/validate.csv')\n",
    "test.to_csv(r'../Hr Analytics/data/test.csv')"
   ]
  }
 ],
 "metadata": {
  "kernelspec": {
   "display_name": "Python 3 (ipykernel)",
   "language": "python",
   "name": "python3"
  },
  "language_info": {
   "codemirror_mode": {
    "name": "ipython",
    "version": 3
   },
   "file_extension": ".py",
   "mimetype": "text/x-python",
   "name": "python",
   "nbconvert_exporter": "python",
   "pygments_lexer": "ipython3",
   "version": "3.9.13"
  }
 },
 "nbformat": 4,
 "nbformat_minor": 4
}
