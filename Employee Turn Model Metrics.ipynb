{
 "cells": [
  {
   "cell_type": "markdown",
   "metadata": {},
   "source": [
    "# Employee Turnover Prediction Starter Workbook"
   ]
  },
  {
   "cell_type": "markdown",
   "metadata": {},
   "source": [
    "This workbook was started by the data scientist who originally worked on this project. It is organized around the following steps:\n",
    "1. Import and Clean data\n",
    "2. Explore data\n",
    "3. Model features\n",
    "4. Model data\n",
    "5. Evaluate models"
   ]
  },
  {
   "cell_type": "code",
   "execution_count": 2,
   "metadata": {
    "ExecuteTime": {
     "end_time": "2024-12-09T07:22:54.030332Z",
     "start_time": "2024-12-09T07:22:53.885279Z"
    }
   },
   "outputs": [],
   "source": [
    "#Import Libraries\n",
    "import numpy as np\n",
    "import pandas as pd\n",
    "import statsmodels.formula.api as sm\n",
    "from sklearn.model_selection import cross_val_score\n",
    "from sklearn.metrics import confusion_matrix, accuracy_score, classification_report, roc_auc_score, roc_curve, ConfusionMatrixDisplay\n",
    "import matplotlib.pyplot as plt\n",
    "import seaborn as sns"
   ]
  },
  {
   "cell_type": "markdown",
   "metadata": {},
   "source": [
    "## 2. Model"
   ]
  },
  {
   "cell_type": "code",
   "execution_count": 3,
   "metadata": {
    "ExecuteTime": {
     "end_time": "2024-12-09T07:22:55.372648Z",
     "start_time": "2024-12-09T07:22:55.327306Z"
    }
   },
   "outputs": [],
   "source": [
    "#Read in the data files\n",
    "train = pd.read_csv(\"assets/train.csv\",sep=\",\")\n",
    "validate = pd.read_csv(\"assets/validate.csv\",sep=\",\")\n",
    "test = pd.read_csv(\"assets/test.csv\",sep=\",\")"
   ]
  },
  {
   "cell_type": "code",
   "execution_count": 4,
   "metadata": {
    "ExecuteTime": {
     "end_time": "2024-12-09T07:22:56.814783Z",
     "start_time": "2024-12-09T07:22:56.810052Z"
    }
   },
   "outputs": [
    {
     "name": "stdout",
     "output_type": "stream",
     "text": [
      "<class 'pandas.core.frame.DataFrame'>\n",
      "RangeIndex: 5088 entries, 0 to 5087\n",
      "Data columns (total 50 columns):\n",
      " #   Column                             Non-Null Count  Dtype  \n",
      "---  ------                             --------------  -----  \n",
      " 0   Unnamed: 0                         5088 non-null   int64  \n",
      " 1   Attrition                          5088 non-null   int64  \n",
      " 2   Age                                5088 non-null   int64  \n",
      " 3   DistanceFromHome                   5088 non-null   int64  \n",
      " 4   Education                          5088 non-null   int64  \n",
      " 5   JobLevel                           5088 non-null   int64  \n",
      " 6   MonthlyIncome                      5088 non-null   int64  \n",
      " 7   NumCompaniesWorked                 5088 non-null   float64\n",
      " 8   PercentSalaryHike                  5088 non-null   int64  \n",
      " 9   StockOptionLevel                   5088 non-null   int64  \n",
      " 10  TotalWorkingYears                  5088 non-null   float64\n",
      " 11  TrainingTimesLastYear              5088 non-null   int64  \n",
      " 12  YearsAtCompany                     5088 non-null   int64  \n",
      " 13  YearsSinceLastPromotion            5088 non-null   int64  \n",
      " 14  YearsWithCurrManager               5088 non-null   int64  \n",
      " 15  PerformanceRating                  5088 non-null   int64  \n",
      " 16  JobInvolvement                     5088 non-null   int64  \n",
      " 17  EnvironmentSatisfaction            5088 non-null   float64\n",
      " 18  JobSatisfaction                    5088 non-null   float64\n",
      " 19  WorkLifeBalance                    5088 non-null   float64\n",
      " 20  BusinessTravel_Non-Travel          5088 non-null   bool   \n",
      " 21  BusinessTravel_Travel_Frequently   5088 non-null   bool   \n",
      " 22  BusinessTravel_Travel_Rarely       5088 non-null   bool   \n",
      " 23  Department_Human_Resources         5088 non-null   bool   \n",
      " 24  Department_Research_Development    5088 non-null   bool   \n",
      " 25  Department_Sales                   5088 non-null   bool   \n",
      " 26  JobRole_Healthcare_Representative  5088 non-null   bool   \n",
      " 27  JobRole_Human_Resources            5088 non-null   bool   \n",
      " 28  JobRole_Laboratory_Technician      5088 non-null   bool   \n",
      " 29  JobRole_Manager                    5088 non-null   bool   \n",
      " 30  JobRole_Manufacturing_Director     5088 non-null   bool   \n",
      " 31  JobRole_Research_Director          5088 non-null   bool   \n",
      " 32  JobRole_Research_Scientist         5088 non-null   bool   \n",
      " 33  JobRole_Sales_Executive            5088 non-null   bool   \n",
      " 34  JobRole_Sales_Representative       5088 non-null   bool   \n",
      " 35  Age_sd                             5088 non-null   float64\n",
      " 36  DistanceFromHome_sd                5088 non-null   float64\n",
      " 37  MonthlyIncome_sd                   5088 non-null   float64\n",
      " 38  NumCompaniesWorked_sd              5088 non-null   float64\n",
      " 39  PercentSalaryHike_sd               5088 non-null   float64\n",
      " 40  TotalWorkingYears_sd               5088 non-null   float64\n",
      " 41  TrainingTimesLastYear_sd           5088 non-null   float64\n",
      " 42  YearsAtCompany_sd                  5088 non-null   float64\n",
      " 43  YearsSinceLastPromotion_sd         5088 non-null   float64\n",
      " 44  YearsWithCurrManager_sd            5088 non-null   float64\n",
      " 45  PerformanceRating_sd               5088 non-null   float64\n",
      " 46  JobInvolvement_sd                  5088 non-null   float64\n",
      " 47  EnvironmentSatisfaction_sd         5088 non-null   float64\n",
      " 48  JobSatisfaction_sd                 5088 non-null   float64\n",
      " 49  WorkLifeBalance_sd                 5088 non-null   float64\n",
      "dtypes: bool(15), float64(20), int64(15)\n",
      "memory usage: 1.4 MB\n"
     ]
    }
   ],
   "source": [
    "#Examine the columns\n",
    "train.info()"
   ]
  },
  {
   "cell_type": "code",
   "execution_count": 5,
   "metadata": {
    "ExecuteTime": {
     "end_time": "2024-12-09T07:23:10.296423Z",
     "start_time": "2024-12-09T07:23:10.289739Z"
    }
   },
   "outputs": [
    {
     "data": {
      "text/plain": "   Unnamed: 0  Attrition  Age  DistanceFromHome  Education  JobLevel  \\\n0           0          0   31                 2          2         3   \n1           1          1   30                 1          3         3   \n2           2          1   45                23          4         3   \n3           3          0   35                 1          3         1   \n4           4          1   26                18          2         2   \n\n   MonthlyIncome  NumCompaniesWorked  PercentSalaryHike  StockOptionLevel  \\\n0          42850                 1.0                 17                 1   \n1         179240                 1.0                 10                 2   \n2          34410                 2.0                  8                 1   \n3         108550                 3.0                 13                 1   \n4          26130                 6.0                 15                 1   \n\n   TotalWorkingYears  TrainingTimesLastYear  YearsAtCompany  \\\n0                1.0                      2               1   \n1               10.0                      2              10   \n2                5.0                      5               1   \n3               17.0                      2               8   \n4                6.0                      2               4   \n\n   YearsSinceLastPromotion  YearsWithCurrManager  PerformanceRating  \\\n0                        1                     0                  4   \n1                        6                     7                  2   \n2                        0                     0                  2   \n3                        1                     6                  3   \n4                        1                     2                  2   \n\n   JobInvolvement  EnvironmentSatisfaction  JobSatisfaction  WorkLifeBalance  \\\n0               3                      4.0              4.0              4.0   \n1               3                      3.0              1.0              3.0   \n2               2                      3.0              4.0              2.0   \n3               4                      3.0              2.0              4.0   \n4               2                      2.0              3.0              2.0   \n\n   BusinessTravel_Non-Travel  BusinessTravel_Travel_Frequently  \\\n0                      False                             False   \n1                      False                             False   \n2                      False                              True   \n3                      False                             False   \n4                      False                             False   \n\n   BusinessTravel_Travel_Rarely  Department_Human_Resources  \\\n0                          True                       False   \n1                          True                       False   \n2                         False                       False   \n3                          True                       False   \n4                          True                       False   \n\n   Department_Research_Development  Department_Sales  \\\n0                             True             False   \n1                             True             False   \n2                             True             False   \n3                             True             False   \n4                             True             False   \n\n   JobRole_Healthcare_Representative  JobRole_Human_Resources  \\\n0                              False                    False   \n1                              False                    False   \n2                              False                    False   \n3                              False                    False   \n4                              False                    False   \n\n   JobRole_Laboratory_Technician  JobRole_Manager  \\\n0                          False            False   \n1                          False            False   \n2                          False            False   \n3                          False            False   \n4                           True            False   \n\n   JobRole_Manufacturing_Director  JobRole_Research_Director  \\\n0                           False                      False   \n1                           False                      False   \n2                           False                       True   \n3                           False                       True   \n4                           False                      False   \n\n   JobRole_Research_Scientist  JobRole_Sales_Executive  \\\n0                       False                     True   \n1                       False                     True   \n2                       False                    False   \n3                       False                    False   \n4                       False                    False   \n\n   JobRole_Sales_Representative    Age_sd  DistanceFromHome_sd  \\\n0                         False -0.648575            -0.838962   \n1                         False -0.757951            -0.979530   \n2                         False  0.882689             2.112975   \n3                         False -0.211071            -0.979530   \n4                         False -1.195455             1.410133   \n\n   MonthlyIncome_sd  NumCompaniesWorked_sd  PercentSalaryHike_sd  \\\n0         -0.472354              -0.676803              0.623603   \n1          2.422511              -0.676803             -1.058227   \n2         -0.651493              -0.275889             -1.538750   \n3          0.922122               0.125025             -0.337443   \n4         -0.827235               1.327768              0.143080   \n\n   TotalWorkingYears_sd  TrainingTimesLastYear_sd  YearsAtCompany_sd  \\\n0             -1.320984                 -0.617511          -0.982420   \n1             -0.165412                 -0.617511           0.486798   \n2             -0.807397                  1.715806          -0.982420   \n3              0.733366                 -0.617511           0.160305   \n4             -0.679000                 -0.617511          -0.492681   \n\n   YearsSinceLastPromotion_sd  YearsWithCurrManager_sd  PerformanceRating_sd  \\\n0                   -0.371055                -1.159367              1.628180   \n1                    1.184830                 0.805966             -1.548202   \n2                   -0.682232                -1.159367             -1.548202   \n3                   -0.371055                 0.525204              0.039989   \n4                   -0.371055                -0.597843             -1.548202   \n\n   JobInvolvement_sd  EnvironmentSatisfaction_sd  JobSatisfaction_sd  \\\n0          -0.037748                    0.986956            0.958052   \n1          -0.037748                    0.045662           -2.200674   \n2          -1.204968                    0.045662            0.958052   \n3           1.129473                    0.045662           -1.147766   \n4          -1.204968                   -0.895632           -0.094857   \n\n   WorkLifeBalance_sd  \n0            1.072279  \n1           -0.020446  \n2           -1.113171  \n3            1.072279  \n4           -1.113171  ",
      "text/html": "<div>\n<style scoped>\n    .dataframe tbody tr th:only-of-type {\n        vertical-align: middle;\n    }\n\n    .dataframe tbody tr th {\n        vertical-align: top;\n    }\n\n    .dataframe thead th {\n        text-align: right;\n    }\n</style>\n<table border=\"1\" class=\"dataframe\">\n  <thead>\n    <tr style=\"text-align: right;\">\n      <th></th>\n      <th>Unnamed: 0</th>\n      <th>Attrition</th>\n      <th>Age</th>\n      <th>DistanceFromHome</th>\n      <th>Education</th>\n      <th>JobLevel</th>\n      <th>MonthlyIncome</th>\n      <th>NumCompaniesWorked</th>\n      <th>PercentSalaryHike</th>\n      <th>StockOptionLevel</th>\n      <th>TotalWorkingYears</th>\n      <th>TrainingTimesLastYear</th>\n      <th>YearsAtCompany</th>\n      <th>YearsSinceLastPromotion</th>\n      <th>YearsWithCurrManager</th>\n      <th>PerformanceRating</th>\n      <th>JobInvolvement</th>\n      <th>EnvironmentSatisfaction</th>\n      <th>JobSatisfaction</th>\n      <th>WorkLifeBalance</th>\n      <th>BusinessTravel_Non-Travel</th>\n      <th>BusinessTravel_Travel_Frequently</th>\n      <th>BusinessTravel_Travel_Rarely</th>\n      <th>Department_Human_Resources</th>\n      <th>Department_Research_Development</th>\n      <th>Department_Sales</th>\n      <th>JobRole_Healthcare_Representative</th>\n      <th>JobRole_Human_Resources</th>\n      <th>JobRole_Laboratory_Technician</th>\n      <th>JobRole_Manager</th>\n      <th>JobRole_Manufacturing_Director</th>\n      <th>JobRole_Research_Director</th>\n      <th>JobRole_Research_Scientist</th>\n      <th>JobRole_Sales_Executive</th>\n      <th>JobRole_Sales_Representative</th>\n      <th>Age_sd</th>\n      <th>DistanceFromHome_sd</th>\n      <th>MonthlyIncome_sd</th>\n      <th>NumCompaniesWorked_sd</th>\n      <th>PercentSalaryHike_sd</th>\n      <th>TotalWorkingYears_sd</th>\n      <th>TrainingTimesLastYear_sd</th>\n      <th>YearsAtCompany_sd</th>\n      <th>YearsSinceLastPromotion_sd</th>\n      <th>YearsWithCurrManager_sd</th>\n      <th>PerformanceRating_sd</th>\n      <th>JobInvolvement_sd</th>\n      <th>EnvironmentSatisfaction_sd</th>\n      <th>JobSatisfaction_sd</th>\n      <th>WorkLifeBalance_sd</th>\n    </tr>\n  </thead>\n  <tbody>\n    <tr>\n      <th>0</th>\n      <td>0</td>\n      <td>0</td>\n      <td>31</td>\n      <td>2</td>\n      <td>2</td>\n      <td>3</td>\n      <td>42850</td>\n      <td>1.0</td>\n      <td>17</td>\n      <td>1</td>\n      <td>1.0</td>\n      <td>2</td>\n      <td>1</td>\n      <td>1</td>\n      <td>0</td>\n      <td>4</td>\n      <td>3</td>\n      <td>4.0</td>\n      <td>4.0</td>\n      <td>4.0</td>\n      <td>False</td>\n      <td>False</td>\n      <td>True</td>\n      <td>False</td>\n      <td>True</td>\n      <td>False</td>\n      <td>False</td>\n      <td>False</td>\n      <td>False</td>\n      <td>False</td>\n      <td>False</td>\n      <td>False</td>\n      <td>False</td>\n      <td>True</td>\n      <td>False</td>\n      <td>-0.648575</td>\n      <td>-0.838962</td>\n      <td>-0.472354</td>\n      <td>-0.676803</td>\n      <td>0.623603</td>\n      <td>-1.320984</td>\n      <td>-0.617511</td>\n      <td>-0.982420</td>\n      <td>-0.371055</td>\n      <td>-1.159367</td>\n      <td>1.628180</td>\n      <td>-0.037748</td>\n      <td>0.986956</td>\n      <td>0.958052</td>\n      <td>1.072279</td>\n    </tr>\n    <tr>\n      <th>1</th>\n      <td>1</td>\n      <td>1</td>\n      <td>30</td>\n      <td>1</td>\n      <td>3</td>\n      <td>3</td>\n      <td>179240</td>\n      <td>1.0</td>\n      <td>10</td>\n      <td>2</td>\n      <td>10.0</td>\n      <td>2</td>\n      <td>10</td>\n      <td>6</td>\n      <td>7</td>\n      <td>2</td>\n      <td>3</td>\n      <td>3.0</td>\n      <td>1.0</td>\n      <td>3.0</td>\n      <td>False</td>\n      <td>False</td>\n      <td>True</td>\n      <td>False</td>\n      <td>True</td>\n      <td>False</td>\n      <td>False</td>\n      <td>False</td>\n      <td>False</td>\n      <td>False</td>\n      <td>False</td>\n      <td>False</td>\n      <td>False</td>\n      <td>True</td>\n      <td>False</td>\n      <td>-0.757951</td>\n      <td>-0.979530</td>\n      <td>2.422511</td>\n      <td>-0.676803</td>\n      <td>-1.058227</td>\n      <td>-0.165412</td>\n      <td>-0.617511</td>\n      <td>0.486798</td>\n      <td>1.184830</td>\n      <td>0.805966</td>\n      <td>-1.548202</td>\n      <td>-0.037748</td>\n      <td>0.045662</td>\n      <td>-2.200674</td>\n      <td>-0.020446</td>\n    </tr>\n    <tr>\n      <th>2</th>\n      <td>2</td>\n      <td>1</td>\n      <td>45</td>\n      <td>23</td>\n      <td>4</td>\n      <td>3</td>\n      <td>34410</td>\n      <td>2.0</td>\n      <td>8</td>\n      <td>1</td>\n      <td>5.0</td>\n      <td>5</td>\n      <td>1</td>\n      <td>0</td>\n      <td>0</td>\n      <td>2</td>\n      <td>2</td>\n      <td>3.0</td>\n      <td>4.0</td>\n      <td>2.0</td>\n      <td>False</td>\n      <td>True</td>\n      <td>False</td>\n      <td>False</td>\n      <td>True</td>\n      <td>False</td>\n      <td>False</td>\n      <td>False</td>\n      <td>False</td>\n      <td>False</td>\n      <td>False</td>\n      <td>True</td>\n      <td>False</td>\n      <td>False</td>\n      <td>False</td>\n      <td>0.882689</td>\n      <td>2.112975</td>\n      <td>-0.651493</td>\n      <td>-0.275889</td>\n      <td>-1.538750</td>\n      <td>-0.807397</td>\n      <td>1.715806</td>\n      <td>-0.982420</td>\n      <td>-0.682232</td>\n      <td>-1.159367</td>\n      <td>-1.548202</td>\n      <td>-1.204968</td>\n      <td>0.045662</td>\n      <td>0.958052</td>\n      <td>-1.113171</td>\n    </tr>\n    <tr>\n      <th>3</th>\n      <td>3</td>\n      <td>0</td>\n      <td>35</td>\n      <td>1</td>\n      <td>3</td>\n      <td>1</td>\n      <td>108550</td>\n      <td>3.0</td>\n      <td>13</td>\n      <td>1</td>\n      <td>17.0</td>\n      <td>2</td>\n      <td>8</td>\n      <td>1</td>\n      <td>6</td>\n      <td>3</td>\n      <td>4</td>\n      <td>3.0</td>\n      <td>2.0</td>\n      <td>4.0</td>\n      <td>False</td>\n      <td>False</td>\n      <td>True</td>\n      <td>False</td>\n      <td>True</td>\n      <td>False</td>\n      <td>False</td>\n      <td>False</td>\n      <td>False</td>\n      <td>False</td>\n      <td>False</td>\n      <td>True</td>\n      <td>False</td>\n      <td>False</td>\n      <td>False</td>\n      <td>-0.211071</td>\n      <td>-0.979530</td>\n      <td>0.922122</td>\n      <td>0.125025</td>\n      <td>-0.337443</td>\n      <td>0.733366</td>\n      <td>-0.617511</td>\n      <td>0.160305</td>\n      <td>-0.371055</td>\n      <td>0.525204</td>\n      <td>0.039989</td>\n      <td>1.129473</td>\n      <td>0.045662</td>\n      <td>-1.147766</td>\n      <td>1.072279</td>\n    </tr>\n    <tr>\n      <th>4</th>\n      <td>4</td>\n      <td>1</td>\n      <td>26</td>\n      <td>18</td>\n      <td>2</td>\n      <td>2</td>\n      <td>26130</td>\n      <td>6.0</td>\n      <td>15</td>\n      <td>1</td>\n      <td>6.0</td>\n      <td>2</td>\n      <td>4</td>\n      <td>1</td>\n      <td>2</td>\n      <td>2</td>\n      <td>2</td>\n      <td>2.0</td>\n      <td>3.0</td>\n      <td>2.0</td>\n      <td>False</td>\n      <td>False</td>\n      <td>True</td>\n      <td>False</td>\n      <td>True</td>\n      <td>False</td>\n      <td>False</td>\n      <td>False</td>\n      <td>True</td>\n      <td>False</td>\n      <td>False</td>\n      <td>False</td>\n      <td>False</td>\n      <td>False</td>\n      <td>False</td>\n      <td>-1.195455</td>\n      <td>1.410133</td>\n      <td>-0.827235</td>\n      <td>1.327768</td>\n      <td>0.143080</td>\n      <td>-0.679000</td>\n      <td>-0.617511</td>\n      <td>-0.492681</td>\n      <td>-0.371055</td>\n      <td>-0.597843</td>\n      <td>-1.548202</td>\n      <td>-1.204968</td>\n      <td>-0.895632</td>\n      <td>-0.094857</td>\n      <td>-1.113171</td>\n    </tr>\n  </tbody>\n</table>\n</div>"
     },
     "execution_count": 5,
     "metadata": {},
     "output_type": "execute_result"
    }
   ],
   "source": [
    "#Let's view some of the sample data\n",
    "pd.set_option(\"display.max_columns\", None)\n",
    "train.head()"
   ]
  },
  {
   "cell_type": "code",
   "execution_count": 6,
   "metadata": {
    "ExecuteTime": {
     "end_time": "2024-12-09T07:23:22.999193Z",
     "start_time": "2024-12-09T07:23:22.990354Z"
    }
   },
   "outputs": [
    {
     "data": {
      "text/plain": "(5088, 49)"
     },
     "execution_count": 6,
     "metadata": {},
     "output_type": "execute_result"
    }
   ],
   "source": [
    "#Drop an extraneous column and determine the shape of the train data frame.\n",
    "train=train.drop(['Unnamed: 0'], axis=1)\n",
    "test=test.drop(['Unnamed: 0'], axis=1)\n",
    "validate=validate.drop(['Unnamed: 0'], axis=1)\n",
    "train.shape"
   ]
  },
  {
   "cell_type": "markdown",
   "metadata": {},
   "source": [
    "#### Design Note 1.1\n",
    "\n",
    "The data were explored, cleaned, and prepared for analysis in the notebook 1_employee_turn_data_prep.ipynb. This notebook contains a start to the model building process. We wil explore a basic model and some discussion of performance metrics. There are several Python packages that can be used to create a logistic regression model, and two of the more popular is scikit-learn and statsmodel. Scikit-learn is a machine learning package, whereas statsmodel falls more within the statistical tradition. Statsmodel provides some useful statistical output (```p-values```, ```coeff```, ```intervals```). Scikit-learn provides good fit metrics (```precision```, ```recall```, ```confusion matrix```) and fits within a machine learning model. Given that we want to do both explanatory and predictive modeling, we will use statsmodel in this file to create our model, which offers some nice statistical output, but we also will leverage some of scikit-learn and its fit metrics. For this initial exploratory modeling, we will use statsmodels for the primary modeling and statistical evaluation, but we will also lean heavily on many of the advanced fit metrics that scikit-learn provides."
   ]
  },
  {
   "cell_type": "code",
   "execution_count": 10,
   "metadata": {
    "ExecuteTime": {
     "end_time": "2024-12-09T20:14:03.766675Z",
     "start_time": "2024-12-09T20:14:03.716596Z"
    }
   },
   "outputs": [
    {
     "ename": "PatsyError",
     "evalue": "Error evaluating factor: NameError: name 'BusinessTravel_None' is not defined\n    Attrition ~ Age_sd + DistanceFromHome_sd + Education + JobLevel + MonthlyIncome_sd + NumCompaniesWorked_sd + PercentSalaryHike_sd + StockOptionLevel + TotalWorkingYears_sd + TrainingTimesLastYear_sd + YearsAtCompany_sd + YearsSinceLastPromotion_sd + YearsWithCurrManager_sd + PerformanceRating_sd + JobInvolvement_sd + EnvironmentSatisfaction_sd + JobSatisfaction_sd + WorkLifeBalance_sd + BusinessTravel_None + BusinessTravel_Travel_Frequently + BusinessTravel_Travel_Rarely + Department_Human_Resources + Department_Research_Development + Department_Sales + JobRole_Healthcare_Representative + JobRole_Human_Resources + JobRole_Laboratory_Technician + JobRole_Manager + JobRole_Manufacturing_Director + JobRole_Research_Director + JobRole_Research_Scientist + JobRole_Sales_Executive + JobRole_Sales_Representative\n                                                                                                                                                                                                                                                                                                                                                                                                          ^^^^^^^^^^^^^^^^^^^",
     "output_type": "error",
     "traceback": [
      "\u001B[0;31m---------------------------------------------------------------------------\u001B[0m",
      "\u001B[0;31mNameError\u001B[0m                                 Traceback (most recent call last)",
      "File \u001B[0;32m~/Documents/CS/MADSWorkbook/venv/lib/python3.10/site-packages/patsy/compat.py:36\u001B[0m, in \u001B[0;36mcall_and_wrap_exc\u001B[0;34m(msg, origin, f, *args, **kwargs)\u001B[0m\n\u001B[1;32m     35\u001B[0m \u001B[38;5;28;01mtry\u001B[39;00m:\n\u001B[0;32m---> 36\u001B[0m     \u001B[38;5;28;01mreturn\u001B[39;00m \u001B[43mf\u001B[49m\u001B[43m(\u001B[49m\u001B[38;5;241;43m*\u001B[39;49m\u001B[43margs\u001B[49m\u001B[43m,\u001B[49m\u001B[43m \u001B[49m\u001B[38;5;241;43m*\u001B[39;49m\u001B[38;5;241;43m*\u001B[39;49m\u001B[43mkwargs\u001B[49m\u001B[43m)\u001B[49m\n\u001B[1;32m     37\u001B[0m \u001B[38;5;28;01mexcept\u001B[39;00m \u001B[38;5;167;01mException\u001B[39;00m \u001B[38;5;28;01mas\u001B[39;00m e:\n",
      "File \u001B[0;32m~/Documents/CS/MADSWorkbook/venv/lib/python3.10/site-packages/patsy/eval.py:169\u001B[0m, in \u001B[0;36mEvalEnvironment.eval\u001B[0;34m(self, expr, source_name, inner_namespace)\u001B[0m\n\u001B[1;32m    168\u001B[0m code \u001B[38;5;241m=\u001B[39m \u001B[38;5;28mcompile\u001B[39m(expr, source_name, \u001B[38;5;124m\"\u001B[39m\u001B[38;5;124meval\u001B[39m\u001B[38;5;124m\"\u001B[39m, \u001B[38;5;28mself\u001B[39m\u001B[38;5;241m.\u001B[39mflags, \u001B[38;5;28;01mFalse\u001B[39;00m)\n\u001B[0;32m--> 169\u001B[0m \u001B[38;5;28;01mreturn\u001B[39;00m \u001B[38;5;28;43meval\u001B[39;49m\u001B[43m(\u001B[49m\u001B[43mcode\u001B[49m\u001B[43m,\u001B[49m\u001B[43m \u001B[49m\u001B[43m{\u001B[49m\u001B[43m}\u001B[49m\u001B[43m,\u001B[49m\u001B[43m \u001B[49m\u001B[43mVarLookupDict\u001B[49m\u001B[43m(\u001B[49m\u001B[43m[\u001B[49m\u001B[43minner_namespace\u001B[49m\u001B[43m]\u001B[49m\n\u001B[1;32m    170\u001B[0m \u001B[43m                                    \u001B[49m\u001B[38;5;241;43m+\u001B[39;49m\u001B[43m \u001B[49m\u001B[38;5;28;43mself\u001B[39;49m\u001B[38;5;241;43m.\u001B[39;49m\u001B[43m_namespaces\u001B[49m\u001B[43m)\u001B[49m\u001B[43m)\u001B[49m\n",
      "File \u001B[0;32m<string>:1\u001B[0m\n",
      "\u001B[0;31mNameError\u001B[0m: name 'BusinessTravel_None' is not defined",
      "\nThe above exception was the direct cause of the following exception:\n",
      "\u001B[0;31mPatsyError\u001B[0m                                Traceback (most recent call last)",
      "Cell \u001B[0;32mIn[10], line 6\u001B[0m\n\u001B[1;32m      1\u001B[0m \u001B[38;5;66;03m# First, we setup a baseline model using statsmodel. We can use the logit model in statsmodel and our training data set\u001B[39;00m\n\u001B[1;32m      2\u001B[0m \u001B[38;5;66;03m# to create a basic model. Attrition is our y-variable. We'll include a few predictors that seem to have\u001B[39;00m\n\u001B[1;32m      3\u001B[0m \u001B[38;5;66;03m# potential as predictors.\u001B[39;00m\n\u001B[1;32m      4\u001B[0m \u001B[38;5;66;03m# For those familiar with the r-programming lanugage, the syntax of statsmodels should feel familiar.\u001B[39;00m\n\u001B[0;32m----> 6\u001B[0m log_reg \u001B[38;5;241m=\u001B[39m \u001B[43msm\u001B[49m\u001B[38;5;241;43m.\u001B[39;49m\u001B[43mlogit\u001B[49m\u001B[43m(\u001B[49m\u001B[43mformula\u001B[49m\u001B[38;5;241;43m=\u001B[39;49m\u001B[38;5;124;43m\"\u001B[39;49m\u001B[38;5;124;43mAttrition ~ Age_sd + DistanceFromHome_sd + Education + JobLevel + \u001B[39;49m\u001B[38;5;124;43m\"\u001B[39;49m\n\u001B[1;32m      7\u001B[0m \u001B[43m                            \u001B[49m\u001B[38;5;124;43m\"\u001B[39;49m\u001B[38;5;124;43mMonthlyIncome_sd + NumCompaniesWorked_sd + PercentSalaryHike_sd + \u001B[39;49m\u001B[38;5;124;43m\"\u001B[39;49m\n\u001B[1;32m      8\u001B[0m \u001B[43m                            \u001B[49m\u001B[38;5;124;43m\"\u001B[39;49m\u001B[38;5;124;43mStockOptionLevel + TotalWorkingYears_sd + TrainingTimesLastYear_sd + \u001B[39;49m\u001B[38;5;124;43m\"\u001B[39;49m\n\u001B[1;32m      9\u001B[0m \u001B[43m                            \u001B[49m\u001B[38;5;124;43m\"\u001B[39;49m\u001B[38;5;124;43mYearsAtCompany_sd + YearsSinceLastPromotion_sd + YearsWithCurrManager_sd + \u001B[39;49m\u001B[38;5;124;43m\"\u001B[39;49m\n\u001B[1;32m     10\u001B[0m \u001B[43m                            \u001B[49m\u001B[38;5;124;43m\"\u001B[39;49m\u001B[38;5;124;43mPerformanceRating_sd + JobInvolvement_sd + EnvironmentSatisfaction_sd + \u001B[39;49m\u001B[38;5;124;43m\"\u001B[39;49m\n\u001B[1;32m     11\u001B[0m \u001B[43m                            \u001B[49m\u001B[38;5;124;43m\"\u001B[39;49m\u001B[38;5;124;43mJobSatisfaction_sd + WorkLifeBalance_sd + BusinessTravel_None + \u001B[39;49m\u001B[38;5;124;43m\"\u001B[39;49m\n\u001B[1;32m     12\u001B[0m \u001B[43m                            \u001B[49m\u001B[38;5;124;43m\"\u001B[39;49m\u001B[38;5;124;43mBusinessTravel_Travel_Frequently + BusinessTravel_Travel_Rarely + \u001B[39;49m\u001B[38;5;124;43m\"\u001B[39;49m\n\u001B[1;32m     13\u001B[0m \u001B[43m                            \u001B[49m\u001B[38;5;124;43m\"\u001B[39;49m\u001B[38;5;124;43mDepartment_Human_Resources + Department_Research_Development + \u001B[39;49m\u001B[38;5;124;43m\"\u001B[39;49m\n\u001B[1;32m     14\u001B[0m \u001B[43m                            \u001B[49m\u001B[38;5;124;43m\"\u001B[39;49m\u001B[38;5;124;43mDepartment_Sales + JobRole_Healthcare_Representative + \u001B[39;49m\u001B[38;5;124;43m\"\u001B[39;49m\n\u001B[1;32m     15\u001B[0m \u001B[43m                            \u001B[49m\u001B[38;5;124;43m\"\u001B[39;49m\u001B[38;5;124;43mJobRole_Human_Resources + JobRole_Laboratory_Technician + JobRole_Manager + \u001B[39;49m\u001B[38;5;124;43m\"\u001B[39;49m\n\u001B[1;32m     16\u001B[0m \u001B[43m                            \u001B[49m\u001B[38;5;124;43m\"\u001B[39;49m\u001B[38;5;124;43mJobRole_Manufacturing_Director + JobRole_Research_Director + \u001B[39;49m\u001B[38;5;124;43m\"\u001B[39;49m\n\u001B[1;32m     17\u001B[0m \u001B[43m                            \u001B[49m\u001B[38;5;124;43m\"\u001B[39;49m\u001B[38;5;124;43mJobRole_Research_Scientist + JobRole_Sales_Executive + \u001B[39;49m\u001B[38;5;124;43m\"\u001B[39;49m\n\u001B[1;32m     18\u001B[0m \u001B[43m                            \u001B[49m\u001B[38;5;124;43m\"\u001B[39;49m\u001B[38;5;124;43mJobRole_Sales_Representative\u001B[39;49m\u001B[38;5;124;43m\"\u001B[39;49m\u001B[43m,\u001B[49m\u001B[43m \u001B[49m\u001B[43mdata\u001B[49m\u001B[38;5;241;43m=\u001B[39;49m\u001B[43mtrain\u001B[49m\u001B[43m)\u001B[49m\u001B[38;5;241m.\u001B[39mfit()\n",
      "File \u001B[0;32m~/Documents/CS/MADSWorkbook/venv/lib/python3.10/site-packages/statsmodels/base/model.py:203\u001B[0m, in \u001B[0;36mModel.from_formula\u001B[0;34m(cls, formula, data, subset, drop_cols, *args, **kwargs)\u001B[0m\n\u001B[1;32m    200\u001B[0m \u001B[38;5;28;01mif\u001B[39;00m missing \u001B[38;5;241m==\u001B[39m \u001B[38;5;124m'\u001B[39m\u001B[38;5;124mnone\u001B[39m\u001B[38;5;124m'\u001B[39m:  \u001B[38;5;66;03m# with patsy it's drop or raise. let's raise.\u001B[39;00m\n\u001B[1;32m    201\u001B[0m     missing \u001B[38;5;241m=\u001B[39m \u001B[38;5;124m'\u001B[39m\u001B[38;5;124mraise\u001B[39m\u001B[38;5;124m'\u001B[39m\n\u001B[0;32m--> 203\u001B[0m tmp \u001B[38;5;241m=\u001B[39m \u001B[43mhandle_formula_data\u001B[49m\u001B[43m(\u001B[49m\u001B[43mdata\u001B[49m\u001B[43m,\u001B[49m\u001B[43m \u001B[49m\u001B[38;5;28;43;01mNone\u001B[39;49;00m\u001B[43m,\u001B[49m\u001B[43m \u001B[49m\u001B[43mformula\u001B[49m\u001B[43m,\u001B[49m\u001B[43m \u001B[49m\u001B[43mdepth\u001B[49m\u001B[38;5;241;43m=\u001B[39;49m\u001B[43meval_env\u001B[49m\u001B[43m,\u001B[49m\n\u001B[1;32m    204\u001B[0m \u001B[43m                          \u001B[49m\u001B[43mmissing\u001B[49m\u001B[38;5;241;43m=\u001B[39;49m\u001B[43mmissing\u001B[49m\u001B[43m)\u001B[49m\n\u001B[1;32m    205\u001B[0m ((endog, exog), missing_idx, design_info) \u001B[38;5;241m=\u001B[39m tmp\n\u001B[1;32m    206\u001B[0m max_endog \u001B[38;5;241m=\u001B[39m \u001B[38;5;28mcls\u001B[39m\u001B[38;5;241m.\u001B[39m_formula_max_endog\n",
      "File \u001B[0;32m~/Documents/CS/MADSWorkbook/venv/lib/python3.10/site-packages/statsmodels/formula/formulatools.py:63\u001B[0m, in \u001B[0;36mhandle_formula_data\u001B[0;34m(Y, X, formula, depth, missing)\u001B[0m\n\u001B[1;32m     61\u001B[0m \u001B[38;5;28;01melse\u001B[39;00m:\n\u001B[1;32m     62\u001B[0m     \u001B[38;5;28;01mif\u001B[39;00m data_util\u001B[38;5;241m.\u001B[39m_is_using_pandas(Y, \u001B[38;5;28;01mNone\u001B[39;00m):\n\u001B[0;32m---> 63\u001B[0m         result \u001B[38;5;241m=\u001B[39m \u001B[43mdmatrices\u001B[49m\u001B[43m(\u001B[49m\u001B[43mformula\u001B[49m\u001B[43m,\u001B[49m\u001B[43m \u001B[49m\u001B[43mY\u001B[49m\u001B[43m,\u001B[49m\u001B[43m \u001B[49m\u001B[43mdepth\u001B[49m\u001B[43m,\u001B[49m\u001B[43m \u001B[49m\u001B[43mreturn_type\u001B[49m\u001B[38;5;241;43m=\u001B[39;49m\u001B[38;5;124;43m'\u001B[39;49m\u001B[38;5;124;43mdataframe\u001B[39;49m\u001B[38;5;124;43m'\u001B[39;49m\u001B[43m,\u001B[49m\n\u001B[1;32m     64\u001B[0m \u001B[43m                           \u001B[49m\u001B[43mNA_action\u001B[49m\u001B[38;5;241;43m=\u001B[39;49m\u001B[43mna_action\u001B[49m\u001B[43m)\u001B[49m\n\u001B[1;32m     65\u001B[0m     \u001B[38;5;28;01melse\u001B[39;00m:\n\u001B[1;32m     66\u001B[0m         result \u001B[38;5;241m=\u001B[39m dmatrices(formula, Y, depth, return_type\u001B[38;5;241m=\u001B[39m\u001B[38;5;124m'\u001B[39m\u001B[38;5;124mdataframe\u001B[39m\u001B[38;5;124m'\u001B[39m,\n\u001B[1;32m     67\u001B[0m                            NA_action\u001B[38;5;241m=\u001B[39mna_action)\n",
      "File \u001B[0;32m~/Documents/CS/MADSWorkbook/venv/lib/python3.10/site-packages/patsy/highlevel.py:309\u001B[0m, in \u001B[0;36mdmatrices\u001B[0;34m(formula_like, data, eval_env, NA_action, return_type)\u001B[0m\n\u001B[1;32m    299\u001B[0m \u001B[38;5;250m\u001B[39m\u001B[38;5;124;03m\"\"\"Construct two design matrices given a formula_like and data.\u001B[39;00m\n\u001B[1;32m    300\u001B[0m \n\u001B[1;32m    301\u001B[0m \u001B[38;5;124;03mThis function is identical to :func:`dmatrix`, except that it requires\u001B[39;00m\n\u001B[0;32m   (...)\u001B[0m\n\u001B[1;32m    306\u001B[0m \u001B[38;5;124;03mSee :func:`dmatrix` for details.\u001B[39;00m\n\u001B[1;32m    307\u001B[0m \u001B[38;5;124;03m\"\"\"\u001B[39;00m\n\u001B[1;32m    308\u001B[0m eval_env \u001B[38;5;241m=\u001B[39m EvalEnvironment\u001B[38;5;241m.\u001B[39mcapture(eval_env, reference\u001B[38;5;241m=\u001B[39m\u001B[38;5;241m1\u001B[39m)\n\u001B[0;32m--> 309\u001B[0m (lhs, rhs) \u001B[38;5;241m=\u001B[39m \u001B[43m_do_highlevel_design\u001B[49m\u001B[43m(\u001B[49m\u001B[43mformula_like\u001B[49m\u001B[43m,\u001B[49m\u001B[43m \u001B[49m\u001B[43mdata\u001B[49m\u001B[43m,\u001B[49m\u001B[43m \u001B[49m\u001B[43meval_env\u001B[49m\u001B[43m,\u001B[49m\n\u001B[1;32m    310\u001B[0m \u001B[43m                                  \u001B[49m\u001B[43mNA_action\u001B[49m\u001B[43m,\u001B[49m\u001B[43m \u001B[49m\u001B[43mreturn_type\u001B[49m\u001B[43m)\u001B[49m\n\u001B[1;32m    311\u001B[0m \u001B[38;5;28;01mif\u001B[39;00m lhs\u001B[38;5;241m.\u001B[39mshape[\u001B[38;5;241m1\u001B[39m] \u001B[38;5;241m==\u001B[39m \u001B[38;5;241m0\u001B[39m:\n\u001B[1;32m    312\u001B[0m     \u001B[38;5;28;01mraise\u001B[39;00m PatsyError(\u001B[38;5;124m\"\u001B[39m\u001B[38;5;124mmodel is missing required outcome variables\u001B[39m\u001B[38;5;124m\"\u001B[39m)\n",
      "File \u001B[0;32m~/Documents/CS/MADSWorkbook/venv/lib/python3.10/site-packages/patsy/highlevel.py:164\u001B[0m, in \u001B[0;36m_do_highlevel_design\u001B[0;34m(formula_like, data, eval_env, NA_action, return_type)\u001B[0m\n\u001B[1;32m    162\u001B[0m \u001B[38;5;28;01mdef\u001B[39;00m \u001B[38;5;21mdata_iter_maker\u001B[39m():\n\u001B[1;32m    163\u001B[0m     \u001B[38;5;28;01mreturn\u001B[39;00m \u001B[38;5;28miter\u001B[39m([data])\n\u001B[0;32m--> 164\u001B[0m design_infos \u001B[38;5;241m=\u001B[39m \u001B[43m_try_incr_builders\u001B[49m\u001B[43m(\u001B[49m\u001B[43mformula_like\u001B[49m\u001B[43m,\u001B[49m\u001B[43m \u001B[49m\u001B[43mdata_iter_maker\u001B[49m\u001B[43m,\u001B[49m\u001B[43m \u001B[49m\u001B[43meval_env\u001B[49m\u001B[43m,\u001B[49m\n\u001B[1;32m    165\u001B[0m \u001B[43m                                  \u001B[49m\u001B[43mNA_action\u001B[49m\u001B[43m)\u001B[49m\n\u001B[1;32m    166\u001B[0m \u001B[38;5;28;01mif\u001B[39;00m design_infos \u001B[38;5;129;01mis\u001B[39;00m \u001B[38;5;129;01mnot\u001B[39;00m \u001B[38;5;28;01mNone\u001B[39;00m:\n\u001B[1;32m    167\u001B[0m     \u001B[38;5;28;01mreturn\u001B[39;00m build_design_matrices(design_infos, data,\n\u001B[1;32m    168\u001B[0m                                  NA_action\u001B[38;5;241m=\u001B[39mNA_action,\n\u001B[1;32m    169\u001B[0m                                  return_type\u001B[38;5;241m=\u001B[39mreturn_type)\n",
      "File \u001B[0;32m~/Documents/CS/MADSWorkbook/venv/lib/python3.10/site-packages/patsy/highlevel.py:66\u001B[0m, in \u001B[0;36m_try_incr_builders\u001B[0;34m(formula_like, data_iter_maker, eval_env, NA_action)\u001B[0m\n\u001B[1;32m     64\u001B[0m \u001B[38;5;28;01mif\u001B[39;00m \u001B[38;5;28misinstance\u001B[39m(formula_like, ModelDesc):\n\u001B[1;32m     65\u001B[0m     \u001B[38;5;28;01massert\u001B[39;00m \u001B[38;5;28misinstance\u001B[39m(eval_env, EvalEnvironment)\n\u001B[0;32m---> 66\u001B[0m     \u001B[38;5;28;01mreturn\u001B[39;00m \u001B[43mdesign_matrix_builders\u001B[49m\u001B[43m(\u001B[49m\u001B[43m[\u001B[49m\u001B[43mformula_like\u001B[49m\u001B[38;5;241;43m.\u001B[39;49m\u001B[43mlhs_termlist\u001B[49m\u001B[43m,\u001B[49m\n\u001B[1;32m     67\u001B[0m \u001B[43m                                   \u001B[49m\u001B[43mformula_like\u001B[49m\u001B[38;5;241;43m.\u001B[39;49m\u001B[43mrhs_termlist\u001B[49m\u001B[43m]\u001B[49m\u001B[43m,\u001B[49m\n\u001B[1;32m     68\u001B[0m \u001B[43m                                  \u001B[49m\u001B[43mdata_iter_maker\u001B[49m\u001B[43m,\u001B[49m\n\u001B[1;32m     69\u001B[0m \u001B[43m                                  \u001B[49m\u001B[43meval_env\u001B[49m\u001B[43m,\u001B[49m\n\u001B[1;32m     70\u001B[0m \u001B[43m                                  \u001B[49m\u001B[43mNA_action\u001B[49m\u001B[43m)\u001B[49m\n\u001B[1;32m     71\u001B[0m \u001B[38;5;28;01melse\u001B[39;00m:\n\u001B[1;32m     72\u001B[0m     \u001B[38;5;28;01mreturn\u001B[39;00m \u001B[38;5;28;01mNone\u001B[39;00m\n",
      "File \u001B[0;32m~/Documents/CS/MADSWorkbook/venv/lib/python3.10/site-packages/patsy/build.py:693\u001B[0m, in \u001B[0;36mdesign_matrix_builders\u001B[0;34m(termlists, data_iter_maker, eval_env, NA_action)\u001B[0m\n\u001B[1;32m    689\u001B[0m factor_states \u001B[38;5;241m=\u001B[39m _factors_memorize(all_factors, data_iter_maker, eval_env)\n\u001B[1;32m    690\u001B[0m \u001B[38;5;66;03m# Now all the factors have working eval methods, so we can evaluate them\u001B[39;00m\n\u001B[1;32m    691\u001B[0m \u001B[38;5;66;03m# on some data to find out what type of data they return.\u001B[39;00m\n\u001B[1;32m    692\u001B[0m (num_column_counts,\n\u001B[0;32m--> 693\u001B[0m  cat_levels_contrasts) \u001B[38;5;241m=\u001B[39m \u001B[43m_examine_factor_types\u001B[49m\u001B[43m(\u001B[49m\u001B[43mall_factors\u001B[49m\u001B[43m,\u001B[49m\n\u001B[1;32m    694\u001B[0m \u001B[43m                                               \u001B[49m\u001B[43mfactor_states\u001B[49m\u001B[43m,\u001B[49m\n\u001B[1;32m    695\u001B[0m \u001B[43m                                               \u001B[49m\u001B[43mdata_iter_maker\u001B[49m\u001B[43m,\u001B[49m\n\u001B[1;32m    696\u001B[0m \u001B[43m                                               \u001B[49m\u001B[43mNA_action\u001B[49m\u001B[43m)\u001B[49m\n\u001B[1;32m    697\u001B[0m \u001B[38;5;66;03m# Now we need the factor infos, which encapsulate the knowledge of\u001B[39;00m\n\u001B[1;32m    698\u001B[0m \u001B[38;5;66;03m# how to turn any given factor into a chunk of data:\u001B[39;00m\n\u001B[1;32m    699\u001B[0m factor_infos \u001B[38;5;241m=\u001B[39m {}\n",
      "File \u001B[0;32m~/Documents/CS/MADSWorkbook/venv/lib/python3.10/site-packages/patsy/build.py:443\u001B[0m, in \u001B[0;36m_examine_factor_types\u001B[0;34m(factors, factor_states, data_iter_maker, NA_action)\u001B[0m\n\u001B[1;32m    441\u001B[0m \u001B[38;5;28;01mfor\u001B[39;00m data \u001B[38;5;129;01min\u001B[39;00m data_iter_maker():\n\u001B[1;32m    442\u001B[0m     \u001B[38;5;28;01mfor\u001B[39;00m factor \u001B[38;5;129;01min\u001B[39;00m \u001B[38;5;28mlist\u001B[39m(examine_needed):\n\u001B[0;32m--> 443\u001B[0m         value \u001B[38;5;241m=\u001B[39m \u001B[43mfactor\u001B[49m\u001B[38;5;241;43m.\u001B[39;49m\u001B[43meval\u001B[49m\u001B[43m(\u001B[49m\u001B[43mfactor_states\u001B[49m\u001B[43m[\u001B[49m\u001B[43mfactor\u001B[49m\u001B[43m]\u001B[49m\u001B[43m,\u001B[49m\u001B[43m \u001B[49m\u001B[43mdata\u001B[49m\u001B[43m)\u001B[49m\n\u001B[1;32m    444\u001B[0m         \u001B[38;5;28;01mif\u001B[39;00m factor \u001B[38;5;129;01min\u001B[39;00m cat_sniffers \u001B[38;5;129;01mor\u001B[39;00m guess_categorical(value):\n\u001B[1;32m    445\u001B[0m             \u001B[38;5;28;01mif\u001B[39;00m factor \u001B[38;5;129;01mnot\u001B[39;00m \u001B[38;5;129;01min\u001B[39;00m cat_sniffers:\n",
      "File \u001B[0;32m~/Documents/CS/MADSWorkbook/venv/lib/python3.10/site-packages/patsy/eval.py:568\u001B[0m, in \u001B[0;36mEvalFactor.eval\u001B[0;34m(self, memorize_state, data)\u001B[0m\n\u001B[1;32m    567\u001B[0m \u001B[38;5;28;01mdef\u001B[39;00m \u001B[38;5;21meval\u001B[39m(\u001B[38;5;28mself\u001B[39m, memorize_state, data):\n\u001B[0;32m--> 568\u001B[0m     \u001B[38;5;28;01mreturn\u001B[39;00m \u001B[38;5;28;43mself\u001B[39;49m\u001B[38;5;241;43m.\u001B[39;49m\u001B[43m_eval\u001B[49m\u001B[43m(\u001B[49m\u001B[43mmemorize_state\u001B[49m\u001B[43m[\u001B[49m\u001B[38;5;124;43m\"\u001B[39;49m\u001B[38;5;124;43meval_code\u001B[39;49m\u001B[38;5;124;43m\"\u001B[39;49m\u001B[43m]\u001B[49m\u001B[43m,\u001B[49m\n\u001B[1;32m    569\u001B[0m \u001B[43m                      \u001B[49m\u001B[43mmemorize_state\u001B[49m\u001B[43m,\u001B[49m\n\u001B[1;32m    570\u001B[0m \u001B[43m                      \u001B[49m\u001B[43mdata\u001B[49m\u001B[43m)\u001B[49m\n",
      "File \u001B[0;32m~/Documents/CS/MADSWorkbook/venv/lib/python3.10/site-packages/patsy/eval.py:551\u001B[0m, in \u001B[0;36mEvalFactor._eval\u001B[0;34m(self, code, memorize_state, data)\u001B[0m\n\u001B[1;32m    549\u001B[0m \u001B[38;5;28;01mdef\u001B[39;00m \u001B[38;5;21m_eval\u001B[39m(\u001B[38;5;28mself\u001B[39m, code, memorize_state, data):\n\u001B[1;32m    550\u001B[0m     inner_namespace \u001B[38;5;241m=\u001B[39m VarLookupDict([data, memorize_state[\u001B[38;5;124m\"\u001B[39m\u001B[38;5;124mtransforms\u001B[39m\u001B[38;5;124m\"\u001B[39m]])\n\u001B[0;32m--> 551\u001B[0m     \u001B[38;5;28;01mreturn\u001B[39;00m \u001B[43mcall_and_wrap_exc\u001B[49m\u001B[43m(\u001B[49m\u001B[38;5;124;43m\"\u001B[39;49m\u001B[38;5;124;43mError evaluating factor\u001B[39;49m\u001B[38;5;124;43m\"\u001B[39;49m\u001B[43m,\u001B[49m\n\u001B[1;32m    552\u001B[0m \u001B[43m                             \u001B[49m\u001B[38;5;28;43mself\u001B[39;49m\u001B[43m,\u001B[49m\n\u001B[1;32m    553\u001B[0m \u001B[43m                             \u001B[49m\u001B[43mmemorize_state\u001B[49m\u001B[43m[\u001B[49m\u001B[38;5;124;43m\"\u001B[39;49m\u001B[38;5;124;43meval_env\u001B[39;49m\u001B[38;5;124;43m\"\u001B[39;49m\u001B[43m]\u001B[49m\u001B[38;5;241;43m.\u001B[39;49m\u001B[43meval\u001B[49m\u001B[43m,\u001B[49m\n\u001B[1;32m    554\u001B[0m \u001B[43m                             \u001B[49m\u001B[43mcode\u001B[49m\u001B[43m,\u001B[49m\n\u001B[1;32m    555\u001B[0m \u001B[43m                             \u001B[49m\u001B[43minner_namespace\u001B[49m\u001B[38;5;241;43m=\u001B[39;49m\u001B[43minner_namespace\u001B[49m\u001B[43m)\u001B[49m\n",
      "File \u001B[0;32m~/Documents/CS/MADSWorkbook/venv/lib/python3.10/site-packages/patsy/compat.py:43\u001B[0m, in \u001B[0;36mcall_and_wrap_exc\u001B[0;34m(msg, origin, f, *args, **kwargs)\u001B[0m\n\u001B[1;32m     39\u001B[0m     new_exc \u001B[38;5;241m=\u001B[39m PatsyError(\u001B[38;5;124m\"\u001B[39m\u001B[38;5;132;01m%s\u001B[39;00m\u001B[38;5;124m: \u001B[39m\u001B[38;5;132;01m%s\u001B[39;00m\u001B[38;5;124m: \u001B[39m\u001B[38;5;132;01m%s\u001B[39;00m\u001B[38;5;124m\"\u001B[39m\n\u001B[1;32m     40\u001B[0m                          \u001B[38;5;241m%\u001B[39m (msg, e\u001B[38;5;241m.\u001B[39m\u001B[38;5;18m__class__\u001B[39m\u001B[38;5;241m.\u001B[39m\u001B[38;5;18m__name__\u001B[39m, e),\n\u001B[1;32m     41\u001B[0m                          origin)\n\u001B[1;32m     42\u001B[0m     \u001B[38;5;66;03m# Use 'exec' to hide this syntax from the Python 2 parser:\u001B[39;00m\n\u001B[0;32m---> 43\u001B[0m     \u001B[43mexec\u001B[49m\u001B[43m(\u001B[49m\u001B[38;5;124;43m\"\u001B[39;49m\u001B[38;5;124;43mraise new_exc from e\u001B[39;49m\u001B[38;5;124;43m\"\u001B[39;49m\u001B[43m)\u001B[49m\n\u001B[1;32m     44\u001B[0m \u001B[38;5;28;01melse\u001B[39;00m:\n\u001B[1;32m     45\u001B[0m     \u001B[38;5;66;03m# In python 2, we just let the original exception escape -- better\u001B[39;00m\n\u001B[1;32m     46\u001B[0m     \u001B[38;5;66;03m# than destroying the traceback. But if it's a PatsyError, we can\u001B[39;00m\n\u001B[1;32m     47\u001B[0m     \u001B[38;5;66;03m# at least set the origin properly.\u001B[39;00m\n\u001B[1;32m     48\u001B[0m     \u001B[38;5;28;01mif\u001B[39;00m \u001B[38;5;28misinstance\u001B[39m(e, PatsyError):\n",
      "File \u001B[0;32m<string>:1\u001B[0m\n",
      "\u001B[0;31mPatsyError\u001B[0m: Error evaluating factor: NameError: name 'BusinessTravel_None' is not defined\n    Attrition ~ Age_sd + DistanceFromHome_sd + Education + JobLevel + MonthlyIncome_sd + NumCompaniesWorked_sd + PercentSalaryHike_sd + StockOptionLevel + TotalWorkingYears_sd + TrainingTimesLastYear_sd + YearsAtCompany_sd + YearsSinceLastPromotion_sd + YearsWithCurrManager_sd + PerformanceRating_sd + JobInvolvement_sd + EnvironmentSatisfaction_sd + JobSatisfaction_sd + WorkLifeBalance_sd + BusinessTravel_None + BusinessTravel_Travel_Frequently + BusinessTravel_Travel_Rarely + Department_Human_Resources + Department_Research_Development + Department_Sales + JobRole_Healthcare_Representative + JobRole_Human_Resources + JobRole_Laboratory_Technician + JobRole_Manager + JobRole_Manufacturing_Director + JobRole_Research_Director + JobRole_Research_Scientist + JobRole_Sales_Executive + JobRole_Sales_Representative\n                                                                                                                                                                                                                                                                                                                                                                                                          ^^^^^^^^^^^^^^^^^^^"
     ]
    }
   ],
   "source": [
    "# First, we setup a baseline model using statsmodel. We can use the logit model in statsmodel and our training data set\n",
    "# to create a basic model. Attrition is our y-variable. We'll include a few predictors that seem to have\n",
    "# potential as predictors.\n",
    "# For those familiar with the r-programming lanugage, the syntax of statsmodels should feel familiar.\n",
    "\n",
    "log_reg = sm.logit(formula=\"Attrition ~ Age_sd + DistanceFromHome_sd + Education + JobLevel + \"\n",
    "                            \"MonthlyIncome_sd + NumCompaniesWorked_sd + PercentSalaryHike_sd + \"\n",
    "                            \"StockOptionLevel + TotalWorkingYears_sd + TrainingTimesLastYear_sd + \"\n",
    "                            \"YearsAtCompany_sd + YearsSinceLastPromotion_sd + YearsWithCurrManager_sd + \"\n",
    "                            \"PerformanceRating_sd + JobInvolvement_sd + EnvironmentSatisfaction_sd + \"\n",
    "                            \"JobSatisfaction_sd + WorkLifeBalance_sd + \"\n",
    "                            \"BusinessTravel_Travel_Frequently + BusinessTravel_Travel_Rarely + \"\n",
    "                            \"Department_Research_Development + \"\n",
    "                            \"Department_Sales + \"\n",
    "                            \"JobRole_Human_Resources + JobRole_Laboratory_Technician + JobRole_Manager + \"\n",
    "                            \"JobRole_Manufacturing_Director + JobRole_Research_Director + \"\n",
    "                            \"JobRole_Research_Scientist + JobRole_Sales_Executive + \"\n",
    "                            \"JobRole_Sales_Representative\", data=train).fit()"
   ]
  },
  {
   "cell_type": "markdown",
   "metadata": {},
   "source": [
    "#### Design Note 1.2: Statistical Evaluation of the Model\n",
    "\n",
    "One advantage of statsmodel is that it offers robust statistical reporting on models. By printing the ```summary()``` of the log, we can view some key aspects of model performance.\n",
    "\n",
    "```Pseudo R-squ.```: In conventional linear regression, one metric of quality is R2, which represents the proportion of the variance in the dependent variable that is explained by the model. An R2 of 40% suggests that 40% of the variation of the dependent variable is explained by the independent variables. Because logistic regression does not utilize ordinary-least squares for fitting a model, it is not calculated to minimize variance, so R2 as a goodness-of-fit metric does not translate. Instead, we must use a psuedo-R2. Psuedo-R2 looks like traditional R2 in that it also ranges from 0 to 1, but it does not have the same intuition as R2. Psuedo-R2 is a relative metric that can be used to compare models on the same set of data.\n",
    "\n",
    "```coef```: The coef. column contains the coefficient for each variable in the model. This helps us in model interpretation. If this were linear regression, we know that a 1 unit change in the x-variable would produce a ```coef``` change in the y-variable. For example, if we are modeling home size (sq ft) vs. home price ($), the coef would tell us that a 1 sq ft increase in size will impact home price by ```coef``` dollars. The intuition works differently in logistic regression. Because the exponents are expressed in log-odds, we have to exponentiate them to interpret them. Doing so will tell us how the odds change give the coefficient.\n",
    "\n",
    "```P>|z|```: This column shows which variables are statistically significant. Anything below 0.05 would traditionally be considered statistically significant. Statistical significance is not the end-all-be-all. It can help in manually building explanatory models, informing variable inclusion decisions. For machine learning, we may well include non-statistically significant variables to improve predictive utility. Better metrics to judge if it is worth including a variable in model are those that consider model complexity vs. performance, such as AIC and BIC.\n",
    "\n",
    "```[0.025  0.975]```: These columns provide a confidence interval around the coefficients, so we can consider uncertainty in our analysis. "
   ]
  },
  {
   "cell_type": "code",
   "execution_count": 7,
   "metadata": {},
   "outputs": [
    {
     "name": "stdout",
     "output_type": "stream",
     "text": [
      "                           Logit Regression Results                           \n",
      "==============================================================================\n",
      "Dep. Variable:              Attrition   No. Observations:                 5174\n",
      "Model:                          Logit   Df Residuals:                     5171\n",
      "Method:                           MLE   Df Model:                            2\n",
      "Date:                Mon, 21 Nov 2022   Pseudo R-squ.:                 0.02824\n",
      "Time:                        18:12:59   Log-Likelihood:                -3485.1\n",
      "converged:                       True   LL-Null:                       -3586.3\n",
      "Covariance Type:            nonrobust   LLR p-value:                 1.026e-44\n",
      "====================================================================================\n",
      "                       coef    std err          z      P>|z|      [0.025      0.975]\n",
      "------------------------------------------------------------------------------------\n",
      "Intercept           -0.0552      0.029     -1.924      0.054      -0.111       0.001\n",
      "Age_sd              -0.4083      0.030    -13.665      0.000      -0.467      -0.350\n",
      "MonthlyIncome_sd    -0.0907      0.029     -3.180      0.001      -0.147      -0.035\n",
      "====================================================================================\n"
     ]
    }
   ],
   "source": [
    "#Now that we fit a baseline model, we can examine some of the output to understand the results.\n",
    "print(log_reg.summary())"
   ]
  },
  {
   "cell_type": "code",
   "execution_count": 8,
   "metadata": {},
   "outputs": [
    {
     "name": "stdout",
     "output_type": "stream",
     "text": [
      "Intercept          -0.055194\n",
      "Age_sd             -0.408347\n",
      "MonthlyIncome_sd   -0.090675\n",
      "dtype: float64\n"
     ]
    }
   ],
   "source": [
    "# Another way to veiw the model coefficients\n",
    "print(log_reg.params)"
   ]
  },
  {
   "cell_type": "markdown",
   "source": [
    "The model summary states that \"A fraction 0.17 of observations can be perfectly predicted. This might indicate that there is complete quasi-separation.\" This might be a result of the one hot encoded dummy variables. Thus, let's create a model devoid of these variables and see if the model improves."
   ],
   "metadata": {
    "collapsed": false
   }
  },
  {
   "cell_type": "code",
   "execution_count": null,
   "outputs": [],
   "source": [
    "model_quant = sm.logit(formula=\"Attrition ~ Age_sd + DistanceFromHome_sd + Education + JobLevel + \"\n",
    "                               \"MonthlyIncome_sd + NumCompaniesWorked_sd + PercentSalaryHike_sd + \"\n",
    "                               \"StockOptionLevel + TotalWorkingYears_sd + TrainingTimesLastYear_sd + \"\n",
    "                               \"YearsAtCompany_sd + YearsSinceLastPromotion_sd + YearsWithCurrManager_sd + \"\n",
    "                               \"PerformanceRating_sd + JobInvolvement_sd + EnvironmentSatisfaction_sd + \"\n",
    "                               \"JobSatisfaction_sd + WorkLifeBalance_sd\", data=train).fit()"
   ],
   "metadata": {
    "collapsed": false
   }
  },
  {
   "cell_type": "markdown",
   "metadata": {},
   "source": [
    "#### Design Note 1.3: Exponentiating coefficients\n",
    "\n",
    "As mentioned previously, logisitic regression coefficients are expressed in log-odds. In order to interpret them as odds-ratios, we have exponentiate them. Mathematically, if we take the mathematical constant e and raise it to the power of our coefficient, we will convert our values from log-odds to odds (e^[ln(OR)]). Recall that odds ratio represents a ratio of probabilities: if there is an 80% chance of winning a soccer (football) match and a 20% of losing it, then the odds ratio of winning is 0.8/0.2 or 4:1 (four-to-one). If the odds of an event are even (0.5, 0.5), then the odds ratio is 0.5/0.5 = 1 (or 1:1). See the course logistic regression overview for more discussion on coefficient interpretation: ([Introduction to Logistic Regression](https://docs.google.com/document/d/1VM_JxZ64zoGGg6aAICJBPW_fnRtKIBHodubKo4eBAaI/edit?usp=sharing))\n"
   ]
  },
  {
   "cell_type": "code",
   "execution_count": 9,
   "metadata": {},
   "outputs": [
    {
     "name": "stdout",
     "output_type": "stream",
     "text": [
      "                        OR  Lower CI  Upper CI\n",
      "Intercept         0.946301  0.894574  1.001020\n",
      "Age_sd            0.664748  0.626932  0.704845\n",
      "MonthlyIncome_sd  0.913315  0.863669  0.965814\n"
     ]
    }
   ],
   "source": [
    "# Build a data frame with odds ratios and their confidence intervals.\n",
    "odds_ratios = pd.DataFrame(\n",
    "    {\n",
    "        \"OR\": log_reg.params,\n",
    "        \"Lower CI\": log_reg.conf_int()[0],\n",
    "        \"Upper CI\": log_reg.conf_int()[1],\n",
    "    }\n",
    ")\n",
    "# Exponentiate the data frame\n",
    "odds_ratios = np.exp(odds_ratios)\n",
    "\n",
    "# Print the results\n",
    "print(odds_ratios)"
   ]
  },
  {
   "cell_type": "markdown",
   "metadata": {},
   "source": [
    "#### Design Note 1.4: Confusion Matrices\n",
    "\n",
    "One of the standard classification quality tools is the confusion matrix. A confusion matrix can be used in multinomial situations, but in binary classification, the confusion matrix allows the data scientist to measure four classification scenarios from the model: true positive, true negative, false positive, and false negative. The definitions of the metrics are found below:\n",
    "\n",
    "```true positive (TP)```: A true positive is when the model predicts a positive-state outcome for the dependent variable and the ground truth is also positive. For example, if we were predicting if someone has diabetes given their blood levels, a true positive result would be that our model predicts the person has diabetes and they actually do. (Note that 'positive' means we predict something will happen; it does not necessarily mean that the outcome is good).\n",
    "\n",
    "```true negative (TN)```: A true negative is when the model predicts a negative-state outcome for the dependent variable and the ground truth is also negative. For example, if we were predicting if someon has diabetes given their blood levels, a true negative result would be that the model predicts the person does not have diabetes and they do not in reality. (Note that 'negative' means we predict something does not happen, and it does not necessary mean that the outcome is good).\n",
    "\n",
    "A perfect model will categorize all events as either true positives or true negatives. This is highly unlikely in most modeling situations, so we must learn about classification error: false positives and false negatives. \n",
    "\n",
    "```false positive (FP)```: A false positive is when the model predicts a positive-state outcome for the dependent variable and the ground truth is actually negative. Using our diabetes example, a false positive occurs when the model says someone has diabetes but in reality they do not. A false positive is a category of classification error.\n",
    "\n",
    "```false negative (FN)```: A false negative is when the model predicts a negative-state outcome for the dependent variable and the ground truth is actually positive. Using our diabetes example, a false negative occurs when the model says someone does not have diabetes but in reality they do. A false negative is a category of classification error. \n",
    "\n",
    "\n",
    "```confusion matrix```: A confusion matrix consists of two axes that define four squares. Each square provides the raw count for a specific classification metric (TP, TN, FP, FN).The key to identifying which square is associated with which classification metric is knowing if the actual (ground truth) results are the rows or the columns.\n",
    "\n",
    "For ```statsmodels```, we use a method called pred_table() to generate a confusion matrix (though you can also use sklearn's confusion matrix tools on non-sklearn models). According to the statsmodel documentation, \"pred_table[i,j] refers to the number of times “i” was observed and the model predicted “j”. Correct predictions are along the diagonal.\" So the confusion matrix in statsmodels, the rows represent the actual (observed) classification and the columns represent the predicted. The diagonal from upper left to lower right are the true positives and true negatives. \n"
   ]
  },
  {
   "cell_type": "code",
   "execution_count": 8,
   "metadata": {
    "ExecuteTime": {
     "end_time": "2024-12-09T20:03:29.844204Z",
     "start_time": "2024-12-09T20:03:29.840961Z"
    }
   },
   "outputs": [
    {
     "data": {
      "text/plain": "(650, 49)"
     },
     "execution_count": 8,
     "metadata": {},
     "output_type": "execute_result"
    }
   ],
   "source": [
    "# Create a confusion matrix for our initial model on the training data set\n",
    "log_reg.pred_table()"
   ]
  },
  {
   "cell_type": "markdown",
   "metadata": {},
   "source": [
    "While ```statsmodels``` can provide a basic confusion matrix, ```scikit-learn``` offers much more in the way of classification metrics. Also, the confusion matrix above using our training data. Of course, if we were to evaluate modeling just on training data, we might easily find our way into overfitting. Below provides the necessary code snippets to (1) generate predictions on our test data set (how effective is our training model at predicting values that are out-of-sample?) and (2) create a basic confusion matrix as well as a more graphical representation."
   ]
  },
  {
   "cell_type": "code",
   "execution_count": 11,
   "metadata": {},
   "outputs": [],
   "source": [
    "# Building a confusion matrix on the test dataset\n",
    "\n",
    "y_pred = log_reg.predict(test)\n",
    "\n",
    "# Y-pred are the probabilities that each row (employee) in the test set will attrite. \n",
    "# To produce a confusion matrix work we need to change that those probabilities to binary (0,1) values. \n",
    "# This can be done by rounding the y_pred values\n",
    "prediction = list(map(round, y_pred))\n",
    " "
   ]
  },
  {
   "cell_type": "markdown",
   "metadata": {},
   "source": [
    "Before we populate the confusion matrix, a helpful exercise is to examine the probabilities we have produce for our test data set. In this context, these values represent the probability that individuals in the test data set will attrite."
   ]
  },
  {
   "cell_type": "code",
   "execution_count": 12,
   "metadata": {},
   "outputs": [
    {
     "data": {
      "text/plain": [
       "<seaborn.axisgrid.FacetGrid at 0x7fb0ee6c1c70>"
      ]
     },
     "execution_count": 12,
     "metadata": {},
     "output_type": "execute_result"
    },
    {
     "data": {
      "image/png": "[encoded data removed]",
      "text/plain": [
       "<Figure size 360x360 with 1 Axes>"
      ]
     },
     "metadata": {
      "needs_background": "light"
     },
     "output_type": "display_data"
    }
   ],
   "source": [
    "sns.displot(y_pred, kde=False, rug=False)"
   ]
  },
  {
   "cell_type": "code",
   "execution_count": 13,
   "metadata": {},
   "outputs": [
    {
     "name": "stdout",
     "output_type": "stream",
     "text": [
      "Confusion Matrix : \n",
      " [[314 247]\n",
      " [ 25  76]]\n",
      "Test accuracy =  0.5891238670694864\n"
     ]
    }
   ],
   "source": [
    "# Now that we have done the legwork, we can produce the desired confusion matrices.\n",
    "\n",
    "# Create a sklearn confusion matrix\n",
    "cm = confusion_matrix(test['Attrition'], prediction)\n",
    "print (\"Confusion Matrix : \\n\", cm)\n",
    "\n",
    "# We also can use sklearn to calculate the overall accuracy of the model.  A flawed, but helpful metric.\n",
    "print('Test accuracy = ', accuracy_score(test['Attrition'], prediction))"
   ]
  },
  {
   "cell_type": "code",
   "execution_count": 14,
   "metadata": {},
   "outputs": [
    {
     "data": {
      "image/png": "[encoded data removed]",
      "text/plain": [
       "<Figure size 640x480 with 2 Axes>"
      ]
     },
     "metadata": {},
     "output_type": "display_data"
    }
   ],
   "source": [
    "# Should we want a slightly more graphical display, sklearn also offers ConfusionMatrixDisplay()\n",
    "\n",
    "disp = ConfusionMatrixDisplay(confusion_matrix=cm)\n",
    "disp.plot()\n",
    "plt.show()"
   ]
  },
  {
   "cell_type": "markdown",
   "metadata": {},
   "source": [
    "#### Design Note 1.5: Fit metrics\n",
    "\n",
    "As mentioned previously, the popular machine learning package ```scikit-learn``` can model several forms of regression, including logistical regression. Generally, its reporting on the statistical properities of models is not as robust as ```statsmodels```, but its fit metrics are superior. Specifically, ```scikit-learn``` provides built-in reporting for several key classification algorithms including precision, recall, F1, and AUC. We will use this metrics to better understand the complexities of our model performance. Below are some basic definitions for some of the fit metrics. For a more detailed discussion, refer to the course logistic regression guide: ([Introduction to Logistic Regression](https://docs.google.com/document/d/1VM_JxZ64zoGGg6aAICJBPW_fnRtKIBHodubKo4eBAaI/edit?usp=sharing))\n",
    "\n",
    "Recall: A measure of a classifier's completeness <br>\n",
    "How many relevant items are selected? <br>\n",
    "Recall: TP / Real Positive = TP / (TP + FN) <br>\n",
    "A model that produces no false negatives has a recall of 1.0.\n",
    "\n",
    "Precision: A measure of a classifier's exactness.<br>\n",
    "How many selected items are relevant?<br>\n",
    "Precision: TP / Predicted Positive = TP / (TP + FP)<br>\n",
    "A model that produces no false positives has a precision of 1.0.\n",
    "\n",
    "F1-score:  the harmonic mean of precision and recall.\n",
    "\n",
    "Sklearn provides a helpful classification report to provide a view into precision, recall, and f1-score. It provides these values for the overall model and disaggreagted by response variable outcome (0,1)."
   ]
  },
  {
   "cell_type": "code",
   "execution_count": 15,
   "metadata": {},
   "outputs": [
    {
     "name": "stdout",
     "output_type": "stream",
     "text": [
      "              precision    recall  f1-score   support\n",
      "\n",
      "           0       0.93      0.56      0.70       561\n",
      "           1       0.24      0.75      0.36       101\n",
      "\n",
      "    accuracy                           0.59       662\n",
      "   macro avg       0.58      0.66      0.53       662\n",
      "weighted avg       0.82      0.59      0.65       662\n"
     ]
    }
   ],
   "source": [
    "# Classification_report() has two required fields: the ground truth (y) and the binary predicted values (pred)\n",
    "\n",
    "print(classification_report(test['Attrition'],prediction))"
   ]
  },
  {
   "cell_type": "markdown",
   "metadata": {},
   "source": [
    "#### Design Note 1.6: Graphic representations of fit\n",
    "\n",
    "A final way we will explore the quality of our classification model (in this preliminary exploration) is examining a ROC curve (receiver operating characteristic curve). The name is a bit opaque, but in essence, the ROC curve plots the True Positive Rate (TPR --- also called recall) against the False Positive Rate (FPR --- defined as FP/(FP + TN)). When we plot this curve, we can consider the trade-off in false positive vs. true positive rate given a decision threshold. It also plots a curve (as its name implies) which gives a visual representation of model performance. Lastly, we can take the integral of the ROC curve we plot to calculate the area under the curve (AUC). A model that has no correct predictions would have the worst possible AUC score (0.0); a model with very prediction correct (only true positives and true negatives) would have the maxmimum AUC score (1.0)."
   ]
  },
  {
   "cell_type": "code",
   "execution_count": 16,
   "metadata": {},
   "outputs": [
    {
     "name": "stdout",
     "output_type": "stream",
     "text": [
      "0.7031644340904679\n"
     ]
    }
   ],
   "source": [
    "# First we use sklearn's roc_auc_score() function to find the area under the curve for our initial model. \n",
    "# Having calculated this value, we can then plot in on a graph along with our ROC curve.\n",
    "\n",
    "auc=roc_auc_score(test['Attrition'],y_pred )\n",
    "print(auc)"
   ]
  },
  {
   "cell_type": "code",
   "execution_count": 17,
   "metadata": {
    "scrolled": true
   },
   "outputs": [
    {
     "data": {
      "image/png": "[encoded data removed]",
      "text/plain": [
       "<Figure size 640x480 with 1 Axes>"
      ]
     },
     "metadata": {},
     "output_type": "display_data"
    }
   ],
   "source": [
    "# Use Scikit-learn's ROC Curve Utility to plot ROC curve. For reference, we also include a 'line of determination (y=x)',\n",
    "# which represents no lift from the model (just random guessing, the worst kind of model performance).\n",
    "# Our goal is to produce a model that separates from the line of determination and captures as much of the area above the line\n",
    "# as possible. \n",
    "\n",
    "fpr, tpr, thresholds = roc_curve(test['Attrition'],  y_pred)\n",
    "\n",
    "# Create ROC curve\n",
    "plt.plot(fpr, tpr, label='ROC curve (area = %.2f)' %auc)\n",
    "plt.plot([0, 1], [0, 1], linestyle='--', lw=2, color='r', label='Random guess')\n",
    "plt.title('ROC curve')\n",
    "plt.ylabel('True Positive Rate')\n",
    "plt.xlabel('False Positive Rate')\n",
    "plt.grid()\n",
    "plt.legend()\n",
    "plt.show()"
   ]
  },
  {
   "cell_type": "code",
   "execution_count": null,
   "metadata": {},
   "outputs": [],
   "source": []
  }
 ],
 "metadata": {
  "kernelspec": {
   "display_name": "Python 3 (ipykernel)",
   "language": "python",
   "name": "python3"
  },
  "language_info": {
   "codemirror_mode": {
    "name": "ipython",
    "version": 3
   },
   "file_extension": ".py",
   "mimetype": "text/x-python",
   "name": "python",
   "nbconvert_exporter": "python",
   "pygments_lexer": "ipython3",
   "version": "3.8.10"
  }
 },
 "nbformat": 4,
 "nbformat_minor": 4
}
